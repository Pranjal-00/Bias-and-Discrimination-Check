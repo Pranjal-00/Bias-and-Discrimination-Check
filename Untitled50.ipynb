{
  "cells": [
    {
      "cell_type": "code",
      "execution_count": null,
      "metadata": {
        "colab": {
          "base_uri": "https://localhost:8080/"
        },
        "id": "MACf520SacZz",
        "outputId": "7049feaa-49fe-468f-9a51-d7b482332ff3"
      },
      "outputs": [
        {
          "name": "stdout",
          "output_type": "stream",
          "text": [
            "Collecting tensorflow_text\n",
            "  Downloading tensorflow_text-2.18.0-cp310-cp310-manylinux_2_17_x86_64.manylinux2014_x86_64.whl.metadata (1.8 kB)\n",
            "Collecting tensorflow<2.19,>=2.18.0 (from tensorflow_text)\n",
            "  Downloading tensorflow-2.18.0-cp310-cp310-manylinux_2_17_x86_64.manylinux2014_x86_64.whl.metadata (4.1 kB)\n",
            "Requirement already satisfied: absl-py>=1.0.0 in /usr/local/lib/python3.10/dist-packages (from tensorflow<2.19,>=2.18.0->tensorflow_text) (1.4.0)\n",
            "Requirement already satisfied: astunparse>=1.6.0 in /usr/local/lib/python3.10/dist-packages (from tensorflow<2.19,>=2.18.0->tensorflow_text) (1.6.3)\n",
            "Requirement already satisfied: flatbuffers>=24.3.25 in /usr/local/lib/python3.10/dist-packages (from tensorflow<2.19,>=2.18.0->tensorflow_text) (24.3.25)\n",
            "Requirement already satisfied: gast!=0.5.0,!=0.5.1,!=0.5.2,>=0.2.1 in /usr/local/lib/python3.10/dist-packages (from tensorflow<2.19,>=2.18.0->tensorflow_text) (0.6.0)\n",
            "Requirement already satisfied: google-pasta>=0.1.1 in /usr/local/lib/python3.10/dist-packages (from tensorflow<2.19,>=2.18.0->tensorflow_text) (0.2.0)\n",
            "Requirement already satisfied: libclang>=13.0.0 in /usr/local/lib/python3.10/dist-packages (from tensorflow<2.19,>=2.18.0->tensorflow_text) (18.1.1)\n",
            "Requirement already satisfied: opt-einsum>=2.3.2 in /usr/local/lib/python3.10/dist-packages (from tensorflow<2.19,>=2.18.0->tensorflow_text) (3.4.0)\n",
            "Requirement already satisfied: packaging in /usr/local/lib/python3.10/dist-packages (from tensorflow<2.19,>=2.18.0->tensorflow_text) (24.2)\n",
            "Requirement already satisfied: protobuf!=4.21.0,!=4.21.1,!=4.21.2,!=4.21.3,!=4.21.4,!=4.21.5,<6.0.0dev,>=3.20.3 in /usr/local/lib/python3.10/dist-packages (from tensorflow<2.19,>=2.18.0->tensorflow_text) (4.25.5)\n",
            "Requirement already satisfied: requests<3,>=2.21.0 in /usr/local/lib/python3.10/dist-packages (from tensorflow<2.19,>=2.18.0->tensorflow_text) (2.32.3)\n",
            "Requirement already satisfied: setuptools in /usr/local/lib/python3.10/dist-packages (from tensorflow<2.19,>=2.18.0->tensorflow_text) (75.1.0)\n",
            "Requirement already satisfied: six>=1.12.0 in /usr/local/lib/python3.10/dist-packages (from tensorflow<2.19,>=2.18.0->tensorflow_text) (1.16.0)\n",
            "Requirement already satisfied: termcolor>=1.1.0 in /usr/local/lib/python3.10/dist-packages (from tensorflow<2.19,>=2.18.0->tensorflow_text) (2.5.0)\n",
            "Requirement already satisfied: typing-extensions>=3.6.6 in /usr/local/lib/python3.10/dist-packages (from tensorflow<2.19,>=2.18.0->tensorflow_text) (4.12.2)\n",
            "Requirement already satisfied: wrapt>=1.11.0 in /usr/local/lib/python3.10/dist-packages (from tensorflow<2.19,>=2.18.0->tensorflow_text) (1.17.0)\n",
            "Requirement already satisfied: grpcio<2.0,>=1.24.3 in /usr/local/lib/python3.10/dist-packages (from tensorflow<2.19,>=2.18.0->tensorflow_text) (1.68.1)\n",
            "Collecting tensorboard<2.19,>=2.18 (from tensorflow<2.19,>=2.18.0->tensorflow_text)\n",
            "  Downloading tensorboard-2.18.0-py3-none-any.whl.metadata (1.6 kB)\n",
            "Requirement already satisfied: keras>=3.5.0 in /usr/local/lib/python3.10/dist-packages (from tensorflow<2.19,>=2.18.0->tensorflow_text) (3.5.0)\n",
            "Requirement already satisfied: numpy<2.1.0,>=1.26.0 in /usr/local/lib/python3.10/dist-packages (from tensorflow<2.19,>=2.18.0->tensorflow_text) (1.26.4)\n",
            "Requirement already satisfied: h5py>=3.11.0 in /usr/local/lib/python3.10/dist-packages (from tensorflow<2.19,>=2.18.0->tensorflow_text) (3.12.1)\n",
            "Requirement already satisfied: ml-dtypes<0.5.0,>=0.4.0 in /usr/local/lib/python3.10/dist-packages (from tensorflow<2.19,>=2.18.0->tensorflow_text) (0.4.1)\n",
            "Requirement already satisfied: tensorflow-io-gcs-filesystem>=0.23.1 in /usr/local/lib/python3.10/dist-packages (from tensorflow<2.19,>=2.18.0->tensorflow_text) (0.37.1)\n",
            "Requirement already satisfied: wheel<1.0,>=0.23.0 in /usr/local/lib/python3.10/dist-packages (from astunparse>=1.6.0->tensorflow<2.19,>=2.18.0->tensorflow_text) (0.45.1)\n",
            "Requirement already satisfied: rich in /usr/local/lib/python3.10/dist-packages (from keras>=3.5.0->tensorflow<2.19,>=2.18.0->tensorflow_text) (13.9.4)\n",
            "Requirement already satisfied: namex in /usr/local/lib/python3.10/dist-packages (from keras>=3.5.0->tensorflow<2.19,>=2.18.0->tensorflow_text) (0.0.8)\n",
            "Requirement already satisfied: optree in /usr/local/lib/python3.10/dist-packages (from keras>=3.5.0->tensorflow<2.19,>=2.18.0->tensorflow_text) (0.13.1)\n",
            "Requirement already satisfied: charset-normalizer<4,>=2 in /usr/local/lib/python3.10/dist-packages (from requests<3,>=2.21.0->tensorflow<2.19,>=2.18.0->tensorflow_text) (3.4.0)\n",
            "Requirement already satisfied: idna<4,>=2.5 in /usr/local/lib/python3.10/dist-packages (from requests<3,>=2.21.0->tensorflow<2.19,>=2.18.0->tensorflow_text) (3.10)\n",
            "Requirement already satisfied: urllib3<3,>=1.21.1 in /usr/local/lib/python3.10/dist-packages (from requests<3,>=2.21.0->tensorflow<2.19,>=2.18.0->tensorflow_text) (2.2.3)\n",
            "Requirement already satisfied: certifi>=2017.4.17 in /usr/local/lib/python3.10/dist-packages (from requests<3,>=2.21.0->tensorflow<2.19,>=2.18.0->tensorflow_text) (2024.8.30)\n",
            "Requirement already satisfied: markdown>=2.6.8 in /usr/local/lib/python3.10/dist-packages (from tensorboard<2.19,>=2.18->tensorflow<2.19,>=2.18.0->tensorflow_text) (3.7)\n",
            "Requirement already satisfied: tensorboard-data-server<0.8.0,>=0.7.0 in /usr/local/lib/python3.10/dist-packages (from tensorboard<2.19,>=2.18->tensorflow<2.19,>=2.18.0->tensorflow_text) (0.7.2)\n",
            "Requirement already satisfied: werkzeug>=1.0.1 in /usr/local/lib/python3.10/dist-packages (from tensorboard<2.19,>=2.18->tensorflow<2.19,>=2.18.0->tensorflow_text) (3.1.3)\n",
            "Requirement already satisfied: MarkupSafe>=2.1.1 in /usr/local/lib/python3.10/dist-packages (from werkzeug>=1.0.1->tensorboard<2.19,>=2.18->tensorflow<2.19,>=2.18.0->tensorflow_text) (3.0.2)\n",
            "Requirement already satisfied: markdown-it-py>=2.2.0 in /usr/local/lib/python3.10/dist-packages (from rich->keras>=3.5.0->tensorflow<2.19,>=2.18.0->tensorflow_text) (3.0.0)\n",
            "Requirement already satisfied: pygments<3.0.0,>=2.13.0 in /usr/local/lib/python3.10/dist-packages (from rich->keras>=3.5.0->tensorflow<2.19,>=2.18.0->tensorflow_text) (2.18.0)\n",
            "Requirement already satisfied: mdurl~=0.1 in /usr/local/lib/python3.10/dist-packages (from markdown-it-py>=2.2.0->rich->keras>=3.5.0->tensorflow<2.19,>=2.18.0->tensorflow_text) (0.1.2)\n",
            "Downloading tensorflow_text-2.18.0-cp310-cp310-manylinux_2_17_x86_64.manylinux2014_x86_64.whl (5.2 MB)\n",
            "\u001b[2K   \u001b[90m━━━━━━━━━━━━━━━━━━━━━━━━━━━━━━━━━━━━━━━━\u001b[0m \u001b[32m5.2/5.2 MB\u001b[0m \u001b[31m36.1 MB/s\u001b[0m eta \u001b[36m0:00:00\u001b[0m\n",
            "\u001b[?25hDownloading tensorflow-2.18.0-cp310-cp310-manylinux_2_17_x86_64.manylinux2014_x86_64.whl (615.3 MB)\n",
            "\u001b[2K   \u001b[90m━━━━━━━━━━━━━━━━━━━━━━━━━━━━━━━━━━━━━━━━\u001b[0m \u001b[32m615.3/615.3 MB\u001b[0m \u001b[31m1.5 MB/s\u001b[0m eta \u001b[36m0:00:00\u001b[0m\n",
            "\u001b[?25hDownloading tensorboard-2.18.0-py3-none-any.whl (5.5 MB)\n",
            "\u001b[2K   \u001b[90m━━━━━━━━━━━━━━━━━━━━━━━━━━━━━━━━━━━━━━━━\u001b[0m \u001b[32m5.5/5.5 MB\u001b[0m \u001b[31m22.1 MB/s\u001b[0m eta \u001b[36m0:00:00\u001b[0m\n",
            "\u001b[?25hInstalling collected packages: tensorboard, tensorflow, tensorflow_text\n",
            "  Attempting uninstall: tensorboard\n",
            "    Found existing installation: tensorboard 2.17.1\n",
            "    Uninstalling tensorboard-2.17.1:\n",
            "      Successfully uninstalled tensorboard-2.17.1\n",
            "  Attempting uninstall: tensorflow\n",
            "    Found existing installation: tensorflow 2.17.1\n",
            "    Uninstalling tensorflow-2.17.1:\n",
            "      Successfully uninstalled tensorflow-2.17.1\n",
            "\u001b[31mERROR: pip's dependency resolver does not currently take into account all the packages that are installed. This behaviour is the source of the following dependency conflicts.\n",
            "tf-keras 2.17.0 requires tensorflow<2.18,>=2.17, but you have tensorflow 2.18.0 which is incompatible.\u001b[0m\u001b[31m\n",
            "\u001b[0mSuccessfully installed tensorboard-2.18.0 tensorflow-2.18.0 tensorflow_text-2.18.0\n"
          ]
        }
      ],
      "source": [
        "!pip install tensorflow_text"
      ]
    },
    {
      "cell_type": "code",
      "execution_count": null,
      "metadata": {
        "id": "0gckLTkgaggK"
      },
      "outputs": [],
      "source": [
        "import numpy as np\n",
        "import pandas as pd\n",
        "import matplotlib.pyplot as plt\n",
        "from sklearn.model_selection import train_test_split\n",
        "from sklearn.metrics import classification_report, confusion_matrix, ConfusionMatrixDisplay\n",
        "import tensorflow as tf\n",
        "from tensorflow import keras\n",
        "import tensorflow_hub as hub\n",
        "import tensorflow_text  # prerequisite for using the BERT preprocessing layer of TensorFlow Hub"
      ]
    },
    {
      "cell_type": "code",
      "execution_count": null,
      "metadata": {
        "id": "PzJBOSMMbJoS"
      },
      "outputs": [],
      "source": [
        "# Load data\n",
        "df = pd.read_csv(\"Ethos_Dataset_Binary.csv\", sep=\";\")"
      ]
    },
    {
      "cell_type": "code",
      "execution_count": null,
      "metadata": {
        "colab": {
          "base_uri": "https://localhost:8080/"
        },
        "id": "EmqVURnFd0p0",
        "outputId": "ca15c128-0ae2-4f25-d560-28c0ffeb760a"
      },
      "outputs": [
        {
          "name": "stdout",
          "output_type": "stream",
          "text": [
            "                                             comment  isHate\n",
            "0          You should know women's sports are a joke     1.0\n",
            "1    You look like Sloth with deeper Down’s syndrome     1.0\n",
            "2  You look like Russian and speak like Indian. B...     1.0\n",
            "3               Women deserve to be abused, I guess.     1.0\n",
            "4  Women are made for making babies and cooking d...     1.0\n",
            "(998, 2)\n",
            "<class 'pandas.core.frame.DataFrame'>\n",
            "RangeIndex: 998 entries, 0 to 997\n",
            "Data columns (total 2 columns):\n",
            " #   Column   Non-Null Count  Dtype  \n",
            "---  ------   --------------  -----  \n",
            " 0   comment  998 non-null    object \n",
            " 1   isHate   998 non-null    float64\n",
            "dtypes: float64(1), object(1)\n",
            "memory usage: 15.7+ KB\n",
            "None\n",
            "           isHate\n",
            "count  998.000000\n",
            "mean     0.400756\n",
            "std      0.391763\n",
            "min      0.000000\n",
            "25%      0.000000\n",
            "50%      0.333333\n",
            "75%      0.833333\n",
            "max      1.000000\n",
            "comment    0\n",
            "isHate     0\n",
            "dtype: int64\n"
          ]
        }
      ],
      "source": [
        "# Display the first few rows of the DataFrame\n",
        "print(df.head())\n",
        "\n",
        "# Get the shape of the DataFrame (number of rows and columns)\n",
        "print(df.shape)\n",
        "\n",
        "# Get information about the columns (data types, non-null values, etc.)\n",
        "print(df.info())\n",
        "\n",
        "# Get descriptive statistics for numerical columns\n",
        "print(df.describe())\n",
        "\n",
        "# Check for missing values\n",
        "print(df.isnull().sum())"
      ]
    },
    {
      "cell_type": "code",
      "execution_count": null,
      "metadata": {
        "id": "2zNyYfw9f1mT"
      },
      "outputs": [],
      "source": [
        "# Convert pandas dataframe to numpy array\n",
        "data = df.to_numpy()"
      ]
    },
    {
      "cell_type": "code",
      "execution_count": null,
      "metadata": {
        "id": "djWQbFplgUoX"
      },
      "outputs": [],
      "source": [
        "# Extract comments from column 0\n",
        "comments = data[:, 0]"
      ]
    },
    {
      "cell_type": "code",
      "execution_count": null,
      "metadata": {
        "colab": {
          "base_uri": "https://localhost:8080/"
        },
        "id": "2Ton4T_4gYVv",
        "outputId": "47e972eb-f2b7-4861-8d2b-45d30df56b61"
      },
      "outputs": [
        {
          "name": "stdout",
          "output_type": "stream",
          "text": [
            "[1.0 1.0 1.0 1.0 1.0 1.0 1.0 1.0 1.0 1.0 1.0 1.0 1.0 1.0 1.0 1.0 1.0 1.0\n",
            " 1.0 1.0 1.0 1.0 1.0 1.0 1.0 1.0 1.0 1.0 1.0 1.0 1.0 1.0 1.0 1.0 1.0 1.0\n",
            " 1.0 1.0 1.0 1.0 1.0 1.0 1.0 1.0 1.0 1.0 1.0 1.0 1.0 1.0 1.0 1.0 1.0 1.0\n",
            " 1.0 1.0 1.0 1.0 1.0 1.0 1.0 1.0 1.0 1.0 1.0 1.0 1.0 1.0 1.0 1.0 1.0 1.0\n",
            " 1.0 1.0 1.0 1.0 1.0 1.0 1.0 1.0 1.0 1.0 1.0 1.0 1.0 1.0 1.0 1.0 1.0 1.0\n",
            " 1.0 1.0 1.0 1.0 1.0 1.0 1.0 1.0 1.0 1.0 1.0 1.0 1.0 1.0 1.0 1.0 1.0 1.0\n",
            " 1.0 1.0 1.0 1.0 1.0 1.0 1.0 1.0 1.0 1.0 1.0 1.0 1.0 1.0 1.0 1.0 1.0 1.0\n",
            " 1.0 1.0 1.0 1.0 1.0 1.0 1.0 1.0 1.0 1.0 1.0 1.0 1.0 1.0 1.0 1.0 1.0 1.0\n",
            " 1.0 1.0 1.0 1.0 1.0 1.0 1.0 1.0 1.0 1.0 1.0 1.0 1.0 1.0 1.0 1.0 1.0 1.0\n",
            " 1.0 0.9838709677419356 0.9836065573770492 0.9782608695652174\n",
            " 0.9733333333333334 0.9666666666666668 0.9545454545454546\n",
            " 0.9454545454545454 0.9375 0.903846153846154 0.903846153846154\n",
            " 0.8571428571428571 0.8571428571428571 0.8571428571428571\n",
            " 0.8490566037735849 0.8461538461538461 0.8333333333333334\n",
            " 0.8333333333333334 0.8333333333333334 0.8333333333333334\n",
            " 0.8333333333333334 0.8333333333333334 0.8333333333333334\n",
            " 0.8333333333333334 0.8333333333333334 0.8333333333333334\n",
            " 0.8333333333333334 0.8333333333333334 0.8333333333333334\n",
            " 0.8333333333333334 0.8333333333333334 0.8333333333333334\n",
            " 0.8333333333333334 0.8333333333333334 0.8333333333333334\n",
            " 0.8333333333333334 0.8333333333333334 0.8333333333333334\n",
            " 0.8333333333333334 0.8333333333333334 0.8333333333333334\n",
            " 0.8333333333333334 0.8333333333333334 0.8333333333333334\n",
            " 0.8333333333333334 0.8333333333333334 0.8333333333333334\n",
            " 0.8333333333333334 0.8333333333333334 0.8333333333333334\n",
            " 0.8333333333333334 0.8333333333333334 0.8333333333333334\n",
            " 0.8333333333333334 0.8333333333333334 0.8333333333333334\n",
            " 0.8333333333333334 0.8333333333333334 0.8333333333333334\n",
            " 0.8333333333333334 0.8333333333333334 0.8333333333333334\n",
            " 0.8333333333333334 0.8333333333333334 0.8333333333333334\n",
            " 0.8333333333333334 0.8333333333333334 0.8333333333333334\n",
            " 0.8333333333333334 0.8333333333333334 0.8333333333333334\n",
            " 0.8333333333333334 0.8333333333333334 0.8333333333333334\n",
            " 0.8333333333333334 0.8333333333333334 0.8333333333333334\n",
            " 0.8333333333333334 0.8333333333333334 0.8333333333333334\n",
            " 0.8333333333333334 0.8333333333333334 0.8333333333333334\n",
            " 0.8333333333333334 0.8333333333333334 0.8333333333333334\n",
            " 0.8333333333333334 0.8333333333333334 0.8333333333333334\n",
            " 0.8333333333333334 0.8333333333333334 0.8333333333333334\n",
            " 0.8333333333333334 0.8333333333333334 0.8333333333333334\n",
            " 0.8333333333333334 0.8333333333333334 0.8333333333333334\n",
            " 0.8333333333333334 0.8333333333333334 0.8333333333333334\n",
            " 0.8333333333333334 0.8333333333333334 0.8333333333333334\n",
            " 0.8333333333333334 0.8333333333333334 0.8333333333333334\n",
            " 0.8333333333333334 0.8333333333333334 0.8333333333333334\n",
            " 0.8333333333333334 0.8333333333333334 0.8333333333333334\n",
            " 0.8333333333333334 0.8333333333333334 0.8333333333333334\n",
            " 0.8214285714285714 0.75 0.75 0.75 0.75 0.75 0.75 0.7222222222222222\n",
            " 0.6785714285714286 0.6666666666666666 0.6666666666666666\n",
            " 0.6666666666666666 0.6666666666666666 0.6666666666666666\n",
            " 0.6666666666666666 0.6666666666666666 0.6666666666666666\n",
            " 0.6666666666666666 0.6666666666666666 0.6666666666666666\n",
            " 0.6666666666666666 0.6666666666666666 0.6666666666666666\n",
            " 0.6666666666666666 0.6666666666666666 0.6666666666666666\n",
            " 0.6666666666666666 0.6666666666666666 0.6666666666666666\n",
            " 0.6666666666666666 0.6666666666666666 0.6666666666666666\n",
            " 0.6666666666666666 0.6666666666666666 0.6666666666666666\n",
            " 0.6666666666666666 0.6666666666666666 0.6666666666666666\n",
            " 0.6666666666666666 0.6666666666666666 0.6666666666666666\n",
            " 0.6666666666666666 0.6666666666666666 0.6666666666666666\n",
            " 0.6666666666666666 0.6666666666666666 0.6666666666666666\n",
            " 0.6666666666666666 0.6666666666666666 0.6666666666666666\n",
            " 0.6666666666666666 0.6666666666666666 0.6666666666666666\n",
            " 0.6666666666666666 0.6666666666666666 0.6666666666666666\n",
            " 0.6666666666666666 0.6666666666666666 0.6666666666666666\n",
            " 0.6666666666666666 0.6666666666666666 0.6666666666666666\n",
            " 0.6666666666666666 0.6666666666666666 0.6666666666666666\n",
            " 0.6666666666666666 0.6666666666666666 0.6666666666666666\n",
            " 0.6666666666666666 0.6666666666666666 0.6666666666666666\n",
            " 0.6666666666666666 0.6666666666666666 0.6666666666666666\n",
            " 0.6666666666666666 0.6666666666666666 0.6666666666666666\n",
            " 0.6666666666666666 0.6666666666666666 0.603448275862069\n",
            " 0.5306122448979592 0.5 0.5 0.5 0.5 0.5 0.5 0.5 0.5 0.5 0.5 0.5 0.5 0.5\n",
            " 0.5 0.5 0.5 0.5 0.5 0.5 0.5 0.5 0.5 0.5 0.5 0.5 0.5 0.5 0.5 0.5 0.5 0.5\n",
            " 0.5 0.5 0.5 0.5 0.5 0.5 0.5 0.5 0.5 0.5 0.5 0.5 0.5 0.5 0.5 0.5 0.5 0.5\n",
            " 0.5 0.5 0.5 0.5 0.5 0.5 0.5 0.5 0.5 0.5 0.5 0.5 0.5 0.5 0.5 0.5 0.5 0.5\n",
            " 0.5 0.5 0.5 0.5 0.5 0.5 0.5 0.4 0.4 0.3333333333333333 0.3333333333333333\n",
            " 0.3333333333333333 0.3333333333333333 0.3333333333333333\n",
            " 0.3333333333333333 0.3333333333333333 0.3333333333333333\n",
            " 0.3333333333333333 0.3333333333333333 0.3333333333333333\n",
            " 0.3333333333333333 0.3333333333333333 0.3333333333333333\n",
            " 0.3333333333333333 0.3333333333333333 0.3333333333333333\n",
            " 0.3333333333333333 0.3333333333333333 0.3333333333333333\n",
            " 0.3333333333333333 0.3333333333333333 0.3333333333333333\n",
            " 0.3333333333333333 0.3333333333333333 0.3333333333333333\n",
            " 0.3333333333333333 0.3333333333333333 0.3333333333333333\n",
            " 0.3333333333333333 0.3333333333333333 0.3333333333333333\n",
            " 0.3333333333333333 0.3333333333333333 0.3333333333333333\n",
            " 0.3333333333333333 0.3333333333333333 0.3333333333333333\n",
            " 0.3333333333333333 0.3333333333333333 0.3333333333333333\n",
            " 0.3333333333333333 0.3333333333333333 0.3333333333333333\n",
            " 0.3333333333333333 0.3333333333333333 0.3333333333333333\n",
            " 0.3333333333333333 0.3333333333333333 0.3333333333333333\n",
            " 0.3333333333333333 0.3333333333333333 0.3333333333333333\n",
            " 0.3333333333333333 0.3333333333333333 0.3333333333333333\n",
            " 0.3333333333333333 0.3333333333333333 0.3333333333333333\n",
            " 0.3333333333333333 0.3333333333333333 0.3333333333333333\n",
            " 0.3333333333333333 0.3333333333333333 0.3333333333333333\n",
            " 0.3333333333333333 0.3333333333333333 0.3333333333333333\n",
            " 0.3333333333333333 0.3333333333333333 0.3333333333333333\n",
            " 0.3333333333333333 0.3333333333333333 0.3333333333333333\n",
            " 0.3333333333333333 0.3333333333333333 0.3333333333333333\n",
            " 0.3333333333333333 0.3333333333333333 0.3333333333333333\n",
            " 0.3023255813953488 0.296875 0.25 0.25 0.25 0.25 0.25 0.25 0.2\n",
            " 0.1666666666666666 0.1666666666666666 0.1666666666666666\n",
            " 0.1666666666666666 0.1666666666666666 0.1666666666666666\n",
            " 0.1666666666666666 0.1666666666666666 0.1666666666666666\n",
            " 0.1666666666666666 0.1666666666666666 0.1666666666666666\n",
            " 0.1666666666666666 0.1666666666666666 0.1666666666666666\n",
            " 0.1666666666666666 0.1666666666666666 0.1666666666666666\n",
            " 0.1666666666666666 0.1666666666666666 0.1666666666666666\n",
            " 0.1666666666666666 0.1666666666666666 0.1666666666666666\n",
            " 0.1666666666666666 0.1666666666666666 0.1666666666666666\n",
            " 0.1666666666666666 0.1666666666666666 0.1666666666666666\n",
            " 0.1666666666666666 0.1666666666666666 0.1666666666666666\n",
            " 0.1666666666666666 0.1666666666666666 0.1666666666666666\n",
            " 0.1666666666666666 0.1666666666666666 0.1666666666666666\n",
            " 0.1666666666666666 0.1666666666666666 0.1666666666666666\n",
            " 0.1666666666666666 0.1666666666666666 0.1666666666666666\n",
            " 0.1666666666666666 0.1666666666666666 0.1666666666666666\n",
            " 0.1666666666666666 0.1666666666666666 0.1666666666666666\n",
            " 0.1666666666666666 0.1666666666666666 0.1666666666666666\n",
            " 0.1666666666666666 0.1666666666666666 0.1666666666666666\n",
            " 0.1666666666666666 0.1666666666666666 0.1666666666666666\n",
            " 0.1666666666666666 0.1666666666666666 0.1666666666666666\n",
            " 0.1666666666666666 0.1666666666666666 0.1666666666666666\n",
            " 0.1666666666666666 0.1666666666666666 0.1666666666666666\n",
            " 0.1666666666666666 0.1666666666666666 0.1666666666666666\n",
            " 0.1666666666666666 0.1666666666666666 0.1666666666666666\n",
            " 0.1666666666666666 0.1666666666666666 0.1666666666666666\n",
            " 0.1666666666666666 0.1666666666666666 0.1666666666666666\n",
            " 0.1666666666666666 0.1666666666666666 0.1666666666666666\n",
            " 0.1666666666666666 0.1666666666666666 0.1666666666666666\n",
            " 0.1666666666666666 0.1666666666666666 0.1666666666666666\n",
            " 0.1666666666666666 0.1666666666666666 0.1666666666666666\n",
            " 0.1666666666666666 0.1666666666666666 0.1666666666666666\n",
            " 0.1666666666666666 0.1666666666666666 0.1666666666666666\n",
            " 0.1666666666666666 0.1666666666666666 0.1666666666666666\n",
            " 0.1666666666666666 0.1666666666666666 0.1666666666666666\n",
            " 0.1666666666666666 0.1607142857142857 0.1525423728813559\n",
            " 0.1111111111111111 0.1034482758620689 0.0909090909090909\n",
            " 0.0389610389610389 0.0377358490566037 0.0317460317460317\n",
            " 0.0303030303030303 0.0298507462686567 0.0263157894736842\n",
            " 0.0188679245283018 0.0188679245283018 0.0163934426229508 0.0 0.0 0.0 0.0\n",
            " 0.0 0.0 0.0 0.0 0.0 0.0 0.0 0.0 0.0 0.0 0.0 0.0 0.0 0.0 0.0 0.0 0.0 0.0\n",
            " 0.0 0.0 0.0 0.0 0.0 0.0 0.0 0.0 0.0 0.0 0.0 0.0 0.0 0.0 0.0 0.0 0.0 0.0\n",
            " 0.0 0.0 0.0 0.0 0.0 0.0 0.0 0.0 0.0 0.0 0.0 0.0 0.0 0.0 0.0 0.0 0.0 0.0\n",
            " 0.0 0.0 0.0 0.0 0.0 0.0 0.0 0.0 0.0 0.0 0.0 0.0 0.0 0.0 0.0 0.0 0.0 0.0\n",
            " 0.0 0.0 0.0 0.0 0.0 0.0 0.0 0.0 0.0 0.0 0.0 0.0 0.0 0.0 0.0 0.0 0.0 0.0\n",
            " 0.0 0.0 0.0 0.0 0.0 0.0 0.0 0.0 0.0 0.0 0.0 0.0 0.0 0.0 0.0 0.0 0.0 0.0\n",
            " 0.0 0.0 0.0 0.0 0.0 0.0 0.0 0.0 0.0 0.0 0.0 0.0 0.0 0.0 0.0 0.0 0.0 0.0\n",
            " 0.0 0.0 0.0 0.0 0.0 0.0 0.0 0.0 0.0 0.0 0.0 0.0 0.0 0.0 0.0 0.0 0.0 0.0\n",
            " 0.0 0.0 0.0 0.0 0.0 0.0 0.0 0.0 0.0 0.0 0.0 0.0 0.0 0.0 0.0 0.0 0.0 0.0\n",
            " 0.0 0.0 0.0 0.0 0.0 0.0 0.0 0.0 0.0 0.0 0.0 0.0 0.0 0.0 0.0 0.0 0.0 0.0\n",
            " 0.0 0.0 0.0 0.0 0.0 0.0 0.0 0.0 0.0 0.0 0.0 0.0 0.0 0.0 0.0 0.0 0.0 0.0\n",
            " 0.0 0.0 0.0 0.0 0.0 0.0 0.0 0.0 0.0 0.0 0.0 0.0 0.0 0.0 0.0 0.0 0.0 0.0\n",
            " 0.0 0.0 0.0 0.0 0.0 0.0 0.0 0.0 0.0 0.0 0.0 0.0 0.0 0.0 0.0 0.0 0.0 0.0\n",
            " 0.0 0.0 0.0 0.0 0.0 0.0 0.0 0.0 0.0 0.0 0.0 0.0 0.0 0.0 0.0 0.0 0.0 0.0\n",
            " 0.0 0.0 0.0 0.0 0.0 0.0 0.0 0.0 0.0 0.0 0.0 0.0 0.0 0.0 0.0 0.0 0.0 0.0\n",
            " 0.0 0.0 0.0 0.0 0.0 0.0 0.0 0.0 0.0 0.0 0.0 0.0 0.0 0.0 0.0 0.0 0.0 0.0\n",
            " 0.0 0.0 0.0 0.0 0.0 0.0 0.0 0.0 0.0 0.0 0.0 0.0 0.0 0.0 0.0 0.0 0.0 0.0\n",
            " 0.0 0.0 0.0 0.0 0.0 0.0 0.0 0.0 0.0 0.0 0.0 0.0 0.0 0.0 0.0 0.0 0.0 0.0\n",
            " 0.0 0.0 0.0 0.0 0.0 0.0 0.0 0.0 0.0 0.0 0.0 0.0 0.0 0.0 0.0 0.0 0.0 0.0\n",
            " 0.0 0.0 0.0 0.0 0.0 0.0 0.0 0.0]\n"
          ]
        }
      ],
      "source": [
        "# Extract labels from column 1\n",
        "labels = data[:, 1]\n",
        "print(labels)"
      ]
    },
    {
      "cell_type": "code",
      "execution_count": null,
      "metadata": {
        "id": "Zo6_O7DxhMaz"
      },
      "outputs": [],
      "source": [
        "# EXPLORATING DATA ANALYSIS"
      ]
    },
    {
      "cell_type": "code",
      "execution_count": null,
      "metadata": {
        "colab": {
          "base_uri": "https://localhost:8080/",
          "height": 472
        },
        "id": "YSYPNOn2gcmJ",
        "outputId": "a8a12cc9-b4cb-4b94-d855-f4179af745e0"
      },
      "outputs": [
        {
          "data": {
            "image/png": "[encoded data removed]",
            "text/plain": [
              "<Figure size 640x480 with 1 Axes>"
            ]
          },
          "metadata": {},
          "output_type": "display_data"
        }
      ],
      "source": [
        "# Histogram of labels\n",
        "plt.hist(labels, color=\"steelblue\", edgecolor=\"black\")\n",
        "plt.xlabel(\"Value\")\n",
        "plt.ylabel(\"Frequency\")\n",
        "plt.title(\"Hate Speech Labels\")\n",
        "plt.show()"
      ]
    },
    {
      "cell_type": "code",
      "execution_count": null,
      "metadata": {
        "id": "t2C1gioJgcpi"
      },
      "outputs": [],
      "source": [
        "# Dichotomize labels (hate speech: 0 = no, 1 = yes)\n",
        "# Decision criterion: Hate speech if minimum 50% of reviewers rated the comment as hate speech\n",
        "labels[labels >= 0.5] = 1\n",
        "labels[labels < 0.5] = 0\n",
        "labels = labels.astype(int)"
      ]
    },
    {
      "cell_type": "code",
      "execution_count": null,
      "metadata": {
        "colab": {
          "base_uri": "https://localhost:8080/",
          "height": 472
        },
        "id": "wAwhLnZ7gc0m",
        "outputId": "ea2874d2-84fb-4641-cc6c-f341ec55f33b"
      },
      "outputs": [
        {
          "data": {
            "image/png": "[encoded data removed]",
            "text/plain": [
              "<Figure size 640x480 with 1 Axes>"
            ]
          },
          "metadata": {},
          "output_type": "display_data"
        }
      ],
      "source": [
        "# Histogram of binary labels\n",
        "plt.hist(labels, color=\"steelblue\", edgecolor=\"black\")\n",
        "plt.xlabel(\"Value\")\n",
        "plt.ylabel(\"Frequency\")\n",
        "plt.title(\"Hate Speech Binary Labels\")\n",
        "plt.show()"
      ]
    },
    {
      "cell_type": "code",
      "execution_count": null,
      "metadata": {
        "colab": {
          "base_uri": "https://localhost:8080/"
        },
        "id": "jlvvhhJQgc5u",
        "outputId": "6ba334da-4877-452a-bfb0-e819bf662817"
      },
      "outputs": [
        {
          "name": "stdout",
          "output_type": "stream",
          "text": [
            "Number of hate speech comments\n",
            "Hate speech: 433 comments (43.39%)\n",
            "No Hate Speech: 565 comments (56.61%)\n",
            "====================\n"
          ]
        }
      ],
      "source": [
        "# Label frequencies\n",
        "num_hate_comments = len(labels[labels == 1])\n",
        "num_no_hate_comments = len(labels[labels == 0])\n",
        "percent_hate_comments = np.round(num_hate_comments/len(labels)*100,2)\n",
        "percent_no_hate_comments = np.round(num_no_hate_comments/len(labels)*100,2)\n",
        "print(\"Number of hate speech comments\")\n",
        "print(f\"Hate speech: {num_hate_comments} comments ({percent_hate_comments}%)\")\n",
        "print(f\"No Hate Speech: {num_no_hate_comments} comments ({percent_no_hate_comments}%)\")\n",
        "print(\"=\"*20)"
      ]
    },
    {
      "cell_type": "code",
      "execution_count": null,
      "metadata": {
        "id": "27kwYCcggc9K"
      },
      "outputs": [],
      "source": [
        "# Comment length\n",
        "comment_length = [len(comment) for comment in comments]"
      ]
    },
    {
      "cell_type": "code",
      "execution_count": null,
      "metadata": {
        "colab": {
          "base_uri": "https://localhost:8080/",
          "height": 449
        },
        "id": "-bzdeXRVg1Rj",
        "outputId": "056d1346-f549-4efc-9d1b-2a12259df3c9"
      },
      "outputs": [
        {
          "data": {
            "image/png": "[encoded data removed]",
            "text/plain": [
              "<Figure size 640x480 with 1 Axes>"
            ]
          },
          "metadata": {},
          "output_type": "display_data"
        }
      ],
      "source": [
        "# Histogram of comment length\n",
        "plt.hist(comment_length, bins=200)\n",
        "plt.xlabel(\"Number of words per comment\")\n",
        "plt.ylabel(\"Counts\")\n",
        "plt.show()"
      ]
    },
    {
      "cell_type": "code",
      "execution_count": null,
      "metadata": {
        "colab": {
          "base_uri": "https://localhost:8080/",
          "height": 449
        },
        "id": "4yK21wADg1Wn",
        "outputId": "ec822998-ca9f-4b0f-a38e-e095d1897af5"
      },
      "outputs": [
        {
          "data": {
            "image/png": "[encoded data removed]",
            "text/plain": [
              "<Figure size 640x480 with 1 Axes>"
            ]
          },
          "metadata": {},
          "output_type": "display_data"
        }
      ],
      "source": [
        "# Histogram of comment length from 0 to 700 words\n",
        "plt.hist(comment_length, bins=200)\n",
        "plt.xlabel(\"Number of words per comment\")\n",
        "plt.ylabel(\"Counts\")\n",
        "plt.xlim(0, 700)\n",
        "plt.show()"
      ]
    },
    {
      "cell_type": "code",
      "execution_count": null,
      "metadata": {
        "colab": {
          "base_uri": "https://localhost:8080/"
        },
        "id": "q1WnPy95g1ZK",
        "outputId": "7efeb2d9-9206-47fd-a8d1-4c1bb4a46bb1"
      },
      "outputs": [
        {
          "name": "stdout",
          "output_type": "stream",
          "text": [
            "Comment Length\n",
            "Mean: 112.0 words\n",
            "Std: 160.0 words\n",
            "Min: 10 words\n",
            "Max: 3347 words\n",
            "====================\n"
          ]
        }
      ],
      "source": [
        "# Mean, Std, Min, Max\n",
        "print(\"Comment Length\")\n",
        "print(f\"Mean: {np.round(np.array(comment_length).mean())} words\")\n",
        "print(f\"Std: {np.round(np.array(comment_length).std())} words\")\n",
        "print(f\"Min: {np.round(np.array(comment_length).min())} words\")\n",
        "print(f\"Max: {np.round(np.array(comment_length).max())} words\")\n",
        "print(\"=\"*20)"
      ]
    },
    {
      "cell_type": "code",
      "execution_count": null,
      "metadata": {
        "colab": {
          "base_uri": "https://localhost:8080/"
        },
        "id": "cbMLQy3cg1cD",
        "outputId": "88843e68-d7ab-41d2-940a-e38d298d4475"
      },
      "outputs": [
        {
          "name": "stdout",
          "output_type": "stream",
          "text": [
            "Here are 10 example comments.\n",
            "Comment 1: You should know women's sports are a joke\n",
            "Comment 2: You look like Sloth with deeper Down’s syndrome\n",
            "Comment 3: You look like Russian and speak like Indian. Both are disgusting go kill yourself\n",
            "Comment 4: Women deserve to be abused, I guess.\n",
            "Comment 5: Women are made for making babies and cooking dinner and nothing else!!!\n",
            "Comment 6: why haven't you faggots taken the bi-pill yet\n",
            "Comment 7: Why don’t you go beck your god to murder you? Christianity is a joke\n",
            "Comment 8: why does that african american monkey hold gun like that?\n",
            "Comment 9: Why does Bulgaria exist as a country? It's one of those homosexual ones.\n",
            "Comment 10: Why do negroes tear down their own neighborhoods when a black thug gets killed by law enforcement? Must be because of low IQ.\n",
            "====================\n"
          ]
        }
      ],
      "source": [
        "# Display first 10 comments\n",
        "print(\"Here are 10 example comments.\")\n",
        "for i in range(10):\n",
        "    print(f\"Comment {i+1}: {comments[i]}\")\n",
        "print(\"=\"*20)"
      ]
    },
    {
      "cell_type": "code",
      "execution_count": null,
      "metadata": {
        "id": "uyOuod19g1eZ"
      },
      "outputs": [],
      "source": [
        "# MODEL BUILDING"
      ]
    },
    {
      "cell_type": "code",
      "execution_count": null,
      "metadata": {
        "id": "Ugxq38Ihg1hv"
      },
      "outputs": [],
      "source": [
        "# Split dataset into training and test data\n",
        "comments_train, comments_test, labels_train, labels_test = train_test_split(comments, labels, test_size=0.3, random_state=42)"
      ]
    },
    {
      "cell_type": "code",
      "execution_count": null,
      "metadata": {
        "id": "cAi1SveNheTh"
      },
      "outputs": [],
      "source": [
        "early_stopping = keras.callbacks.EarlyStopping(\n",
        "    monitor=\"val_accuracy\",\n",
        "    mode=\"max\",\n",
        "    patience=20,\n",
        "    restore_best_weights=True)"
      ]
    },
    {
      "cell_type": "code",
      "execution_count": null,
      "metadata": {
        "id": "VmJLNdH2hgNR"
      },
      "outputs": [],
      "source": [
        "# Specify dropout rate (used in all models)\n",
        "dropout_rate = 0.5"
      ]
    },
    {
      "cell_type": "code",
      "execution_count": null,
      "metadata": {
        "id": "e0HdmejghwoT"
      },
      "outputs": [],
      "source": [
        "# Model 1: SimpleRNN"
      ]
    },
    {
      "cell_type": "code",
      "execution_count": null,
      "metadata": {
        "id": "3lW-G-aFh439"
      },
      "outputs": [],
      "source": [
        "# Initialize tokenizer\n",
        "num_words = 5000  # maximum number of unique words in the dictionary of the tokenizer\n",
        "tokenizer = keras.preprocessing.text.Tokenizer(\n",
        "    num_words=num_words,\n",
        "    filters='\"!#$%&()*+,-./:;<=>?@[\\\\]^_`{|}~\\t\\n',\n",
        "    lower=True,\n",
        "    split=\" \",\n",
        "    char_level=False,\n",
        "    oov_token=None\n",
        ")"
      ]
    },
    {
      "cell_type": "code",
      "execution_count": null,
      "metadata": {
        "id": "JlVrHF5Ph5DM"
      },
      "outputs": [],
      "source": [
        "# Fit tokenizer to training data\n",
        "tokenizer.fit_on_texts(comments_train)"
      ]
    },
    {
      "cell_type": "code",
      "execution_count": null,
      "metadata": {
        "id": "Srd8yaGFh5GG"
      },
      "outputs": [],
      "source": [
        "# Save dictionary\n",
        "word_index = tokenizer.word_index"
      ]
    },
    {
      "cell_type": "code",
      "execution_count": null,
      "metadata": {
        "colab": {
          "base_uri": "https://localhost:8080/"
        },
        "id": "fnDos5Qsh5Ir",
        "outputId": "29d26a45-014a-4291-c60d-d0e92d1fda11"
      },
      "outputs": [
        {
          "name": "stdout",
          "output_type": "stream",
          "text": [
            "the: 1\n",
            "and: 2\n",
            "to: 3\n",
            "i: 4\n",
            "a: 5\n",
            "of: 6\n",
            "you: 7\n",
            "is: 8\n",
            "are: 9\n",
            "in: 10\n",
            "they: 11\n",
            "that: 12\n",
            "people: 13\n",
            "this: 14\n",
            "have: 15\n",
            "for: 16\n",
            "it: 17\n",
            "be: 18\n",
            "not: 19\n",
            "all: 20\n",
            "your: 21\n",
            "with: 22\n",
            "like: 23\n",
            "them: 24\n",
            "so: 25\n",
            "we: 26\n",
            "if: 27\n",
            "or: 28\n",
            "but: 29\n",
            "just: 30\n",
            "on: 31\n",
            "my: 32\n",
            "their: 33\n",
            " : 34\n",
            "was: 35\n",
            "what: 36\n",
            "get: 37\n",
            "will: 38\n",
            "can: 39\n",
            "fucking: 40\n",
            "as: 41\n",
            "me: 42\n",
            "white: 43\n",
            "these: 44\n",
            "who: 45\n",
            "an: 46\n",
            "out: 47\n",
            "there: 48\n",
            "about: 49\n",
            "because: 50\n",
            "do: 51\n",
            "he: 52\n",
            "would: 53\n",
            "how: 54\n",
            "at: 55\n",
            "from: 56\n",
            "women: 57\n",
            "when: 58\n",
            "black: 59\n",
            "fuck: 60\n",
            "know: 61\n",
            "one: 62\n",
            "up: 63\n",
            "it's: 64\n",
            "her: 65\n",
            "should: 66\n",
            "no: 67\n",
            "don't: 68\n",
            "islam: 69\n",
            "want: 70\n",
            "only: 71\n",
            "muslims: 72\n",
            "our: 73\n",
            "men: 74\n",
            "being: 75\n",
            "love: 76\n",
            "him: 77\n",
            "why: 78\n",
            "by: 79\n",
            "back: 80\n",
            "think: 81\n",
            "make: 82\n",
            "kill: 83\n",
            "shit: 84\n",
            "she: 85\n",
            "man: 86\n",
            "world: 87\n",
            "take: 88\n",
            "god: 89\n",
            "look: 90\n",
            "more: 91\n",
            "go: 92\n",
            "hate: 93\n",
            "other: 94\n",
            "now: 95\n",
            "most: 96\n",
            "woman: 97\n",
            "his: 98\n",
            "religion: 99\n",
            "time: 100\n"
          ]
        }
      ],
      "source": [
        "# Display first 100 words of the dictionary\n",
        "count = 0\n",
        "for key, value in word_index.items():\n",
        "    print(f\"{key}: {value}\")\n",
        "    count += 1\n",
        "    if count == 100:\n",
        "        break"
      ]
    },
    {
      "cell_type": "code",
      "execution_count": null,
      "metadata": {
        "id": "mryVXzhih5Ll"
      },
      "outputs": [],
      "source": [
        "# Apply tokenizer to training and test data\n",
        "sequences_train = tokenizer.texts_to_sequences(comments_train)\n",
        "sequences_test = tokenizer.texts_to_sequences(comments_test)"
      ]
    },
    {
      "cell_type": "code",
      "execution_count": null,
      "metadata": {
        "colab": {
          "base_uri": "https://localhost:8080/"
        },
        "id": "N_dpY-BYipVB",
        "outputId": "d43351b9-b722-47cf-f2f7-e96bca38bb70"
      },
      "outputs": [
        {
          "name": "stdout",
          "output_type": "stream",
          "text": [
            "[[27, 11, 9, 25, 133, 23, 312, 78, 275, 11, 377, 24, 23, 312, 2, 787, 469, 1304], [1305, 6, 378], [30, 5, 245, 579, 31, 1, 788, 2, 7, 204, 18, 5, 1306, 79, 246, 2, 46, 379, 1307, 55, 127, 789, 790, 55, 580], [470, 791, 47, 142, 12, 1308, 380, 56, 1309, 25, 276], [52, 471, 18, 10, 5, 581, 29, 472, 19, 55, 20, 169, 381, 792, 1, 1310, 313]]\n"
          ]
        }
      ],
      "source": [
        "# Display first 5 sequences\n",
        "print(sequences_train[:5])"
      ]
    },
    {
      "cell_type": "code",
      "execution_count": null,
      "metadata": {
        "id": "319MWycsipXl"
      },
      "outputs": [],
      "source": [
        "# Apply sequence padding to obtain consistent sequence length\n",
        "max_length = 15\n",
        "padded_sequences_train = keras.preprocessing.sequence.pad_sequences(\n",
        "    sequences_train,\n",
        "    maxlen=max_length,\n",
        "    truncating=\"post\",\n",
        "    padding=\"post\"\n",
        "    )\n",
        "padded_sequences_test = keras.preprocessing.sequence.pad_sequences(\n",
        "    sequences_test,\n",
        "    maxlen=max_length,\n",
        "    truncating=\"post\",\n",
        "    padding=\"post\"\n",
        "    )"
      ]
    },
    {
      "cell_type": "code",
      "execution_count": null,
      "metadata": {
        "colab": {
          "base_uri": "https://localhost:8080/"
        },
        "id": "xbjueUV9ipae",
        "outputId": "1e15ebf0-23b1-49a8-e1c0-3dea23c019eb"
      },
      "outputs": [
        {
          "name": "stdout",
          "output_type": "stream",
          "text": [
            "[[  27   11    9   25  133   23  312   78  275   11  377   24   23  312\n",
            "     2]\n",
            " [1305    6  378    0    0    0    0    0    0    0    0    0    0    0\n",
            "     0]\n",
            " [  30    5  245  579   31    1  788    2    7  204   18    5 1306   79\n",
            "   246]\n",
            " [ 470  791   47  142   12 1308  380   56 1309   25  276    0    0    0\n",
            "     0]\n",
            " [  52  471   18   10    5  581   29  472   19   55   20  169  381  792\n",
            "     1]]\n"
          ]
        }
      ],
      "source": [
        "# Display first 5 padded sequences\n",
        "print(padded_sequences_train[:5])"
      ]
    },
    {
      "cell_type": "code",
      "execution_count": null,
      "metadata": {
        "id": "ivCoy2I0ipda"
      },
      "outputs": [],
      "source": [
        "# Specify the number of dimensions of the word vectors in the embedding layer\n",
        "word_vector_dim = 50"
      ]
    },
    {
      "cell_type": "code",
      "execution_count": null,
      "metadata": {
        "colab": {
          "base_uri": "https://localhost:8080/"
        },
        "id": "upp0IoOyipgc",
        "outputId": "92570440-e9a2-4b45-b09c-e904e05702b7"
      },
      "outputs": [
        {
          "name": "stderr",
          "output_type": "stream",
          "text": [
            "/usr/local/lib/python3.10/dist-packages/keras/src/layers/core/embedding.py:90: UserWarning: Argument `input_length` is deprecated. Just remove it.\n",
            "  warnings.warn(\n"
          ]
        }
      ],
      "source": [
        "# Specify model\n",
        "model1 = keras.models.Sequential()\n",
        "model1.add(keras.layers.Embedding(num_words+1,  # number of words in tokenizer +1 for the \"0\" used for padding\n",
        "                                  word_vector_dim,\n",
        "                                  input_length=max_length,\n",
        "                                  mask_zero=True))\n",
        "model1.add(keras.layers.SimpleRNN(128,\n",
        "                                  return_sequences=True,\n",
        "                                  dropout=dropout_rate,\n",
        "                                  recurrent_dropout=dropout_rate))\n",
        "model1.add(keras.layers.SimpleRNN(128,\n",
        "                                  dropout=dropout_rate,\n",
        "                                  recurrent_dropout=dropout_rate))\n",
        "model1.add(keras.layers.Dense(64, activation=\"relu\"))\n",
        "model1.add(keras.layers.Dense(1, activation=\"sigmoid\"))"
      ]
    },
    {
      "cell_type": "code",
      "execution_count": null,
      "metadata": {
        "colab": {
          "base_uri": "https://localhost:8080/",
          "height": 289
        },
        "id": "O1cm7uQfipjv",
        "outputId": "2454b934-1d45-4408-cec8-a9af583760de"
      },
      "outputs": [
        {
          "data": {
            "text/html": [
              "<pre style=\"white-space:pre;overflow-x:auto;line-height:normal;font-family:Menlo,'DejaVu Sans Mono',consolas,'Courier New',monospace\"><span style=\"font-weight: bold\">Model: \"sequential\"</span>\n",
              "</pre>\n"
            ],
            "text/plain": [
              "\u001b[1mModel: \"sequential\"\u001b[0m\n"
            ]
          },
          "metadata": {},
          "output_type": "display_data"
        },
        {
          "data": {
            "text/html": [
              "<pre style=\"white-space:pre;overflow-x:auto;line-height:normal;font-family:Menlo,'DejaVu Sans Mono',consolas,'Courier New',monospace\">┏━━━━━━━━━━━━━━━━━━━━━━━━━━━━━━━━━━━━━━┳━━━━━━━━━━━━━━━━━━━━━━━━━━━━━┳━━━━━━━━━━━━━━━━━┓\n",
              "┃<span style=\"font-weight: bold\"> Layer (type)                         </span>┃<span style=\"font-weight: bold\"> Output Shape                </span>┃<span style=\"font-weight: bold\">         Param # </span>┃\n",
              "┡━━━━━━━━━━━━━━━━━━━━━━━━━━━━━━━━━━━━━━╇━━━━━━━━━━━━━━━━━━━━━━━━━━━━━╇━━━━━━━━━━━━━━━━━┩\n",
              "│ embedding (<span style=\"color: #0087ff; text-decoration-color: #0087ff\">Embedding</span>)                │ ?                           │     <span style=\"color: #00af00; text-decoration-color: #00af00\">0</span> (unbuilt) │\n",
              "├──────────────────────────────────────┼─────────────────────────────┼─────────────────┤\n",
              "│ simple_rnn (<span style=\"color: #0087ff; text-decoration-color: #0087ff\">SimpleRNN</span>)               │ ?                           │     <span style=\"color: #00af00; text-decoration-color: #00af00\">0</span> (unbuilt) │\n",
              "├──────────────────────────────────────┼─────────────────────────────┼─────────────────┤\n",
              "│ simple_rnn_1 (<span style=\"color: #0087ff; text-decoration-color: #0087ff\">SimpleRNN</span>)             │ ?                           │     <span style=\"color: #00af00; text-decoration-color: #00af00\">0</span> (unbuilt) │\n",
              "├──────────────────────────────────────┼─────────────────────────────┼─────────────────┤\n",
              "│ dense (<span style=\"color: #0087ff; text-decoration-color: #0087ff\">Dense</span>)                        │ ?                           │     <span style=\"color: #00af00; text-decoration-color: #00af00\">0</span> (unbuilt) │\n",
              "├──────────────────────────────────────┼─────────────────────────────┼─────────────────┤\n",
              "│ dense_1 (<span style=\"color: #0087ff; text-decoration-color: #0087ff\">Dense</span>)                      │ ?                           │     <span style=\"color: #00af00; text-decoration-color: #00af00\">0</span> (unbuilt) │\n",
              "└──────────────────────────────────────┴─────────────────────────────┴─────────────────┘\n",
              "</pre>\n"
            ],
            "text/plain": [
              "┏━━━━━━━━━━━━━━━━━━━━━━━━━━━━━━━━━━━━━━┳━━━━━━━━━━━━━━━━━━━━━━━━━━━━━┳━━━━━━━━━━━━━━━━━┓\n",
              "┃\u001b[1m \u001b[0m\u001b[1mLayer (type)                        \u001b[0m\u001b[1m \u001b[0m┃\u001b[1m \u001b[0m\u001b[1mOutput Shape               \u001b[0m\u001b[1m \u001b[0m┃\u001b[1m \u001b[0m\u001b[1m        Param #\u001b[0m\u001b[1m \u001b[0m┃\n",
              "┡━━━━━━━━━━━━━━━━━━━━━━━━━━━━━━━━━━━━━━╇━━━━━━━━━━━━━━━━━━━━━━━━━━━━━╇━━━━━━━━━━━━━━━━━┩\n",
              "│ embedding (\u001b[38;5;33mEmbedding\u001b[0m)                │ ?                           │     \u001b[38;5;34m0\u001b[0m (unbuilt) │\n",
              "├──────────────────────────────────────┼─────────────────────────────┼─────────────────┤\n",
              "│ simple_rnn (\u001b[38;5;33mSimpleRNN\u001b[0m)               │ ?                           │     \u001b[38;5;34m0\u001b[0m (unbuilt) │\n",
              "├──────────────────────────────────────┼─────────────────────────────┼─────────────────┤\n",
              "│ simple_rnn_1 (\u001b[38;5;33mSimpleRNN\u001b[0m)             │ ?                           │     \u001b[38;5;34m0\u001b[0m (unbuilt) │\n",
              "├──────────────────────────────────────┼─────────────────────────────┼─────────────────┤\n",
              "│ dense (\u001b[38;5;33mDense\u001b[0m)                        │ ?                           │     \u001b[38;5;34m0\u001b[0m (unbuilt) │\n",
              "├──────────────────────────────────────┼─────────────────────────────┼─────────────────┤\n",
              "│ dense_1 (\u001b[38;5;33mDense\u001b[0m)                      │ ?                           │     \u001b[38;5;34m0\u001b[0m (unbuilt) │\n",
              "└──────────────────────────────────────┴─────────────────────────────┴─────────────────┘\n"
            ]
          },
          "metadata": {},
          "output_type": "display_data"
        },
        {
          "data": {
            "text/html": [
              "<pre style=\"white-space:pre;overflow-x:auto;line-height:normal;font-family:Menlo,'DejaVu Sans Mono',consolas,'Courier New',monospace\"><span style=\"font-weight: bold\"> Total params: </span><span style=\"color: #00af00; text-decoration-color: #00af00\">0</span> (0.00 B)\n",
              "</pre>\n"
            ],
            "text/plain": [
              "\u001b[1m Total params: \u001b[0m\u001b[38;5;34m0\u001b[0m (0.00 B)\n"
            ]
          },
          "metadata": {},
          "output_type": "display_data"
        },
        {
          "data": {
            "text/html": [
              "<pre style=\"white-space:pre;overflow-x:auto;line-height:normal;font-family:Menlo,'DejaVu Sans Mono',consolas,'Courier New',monospace\"><span style=\"font-weight: bold\"> Trainable params: </span><span style=\"color: #00af00; text-decoration-color: #00af00\">0</span> (0.00 B)\n",
              "</pre>\n"
            ],
            "text/plain": [
              "\u001b[1m Trainable params: \u001b[0m\u001b[38;5;34m0\u001b[0m (0.00 B)\n"
            ]
          },
          "metadata": {},
          "output_type": "display_data"
        },
        {
          "data": {
            "text/html": [
              "<pre style=\"white-space:pre;overflow-x:auto;line-height:normal;font-family:Menlo,'DejaVu Sans Mono',consolas,'Courier New',monospace\"><span style=\"font-weight: bold\"> Non-trainable params: </span><span style=\"color: #00af00; text-decoration-color: #00af00\">0</span> (0.00 B)\n",
              "</pre>\n"
            ],
            "text/plain": [
              "\u001b[1m Non-trainable params: \u001b[0m\u001b[38;5;34m0\u001b[0m (0.00 B)\n"
            ]
          },
          "metadata": {},
          "output_type": "display_data"
        }
      ],
      "source": [
        "# Summarize model\n",
        "model1.summary()"
      ]
    },
    {
      "cell_type": "code",
      "execution_count": null,
      "metadata": {
        "id": "h5FbIPRKh5PM"
      },
      "outputs": [],
      "source": [
        "# Compile model\n",
        "optimizer = keras.optimizers.Adam(learning_rate=0.001)\n",
        "model1.compile(optimizer=optimizer,\n",
        "               loss=\"binary_crossentropy\",\n",
        "               metrics=[\"accuracy\"])"
      ]
    },
    {
      "cell_type": "code",
      "execution_count": null,
      "metadata": {
        "colab": {
          "base_uri": "https://localhost:8080/"
        },
        "id": "SL2lD9wMkQ3I",
        "outputId": "cc346cfb-d769-4292-d11c-dc8dedc98428"
      },
      "outputs": [
        {
          "name": "stdout",
          "output_type": "stream",
          "text": [
            "Epoch 1/100\n",
            "\u001b[1m88/88\u001b[0m \u001b[32m━━━━━━━━━━━━━━━━━━━━\u001b[0m\u001b[37m\u001b[0m \u001b[1m7s\u001b[0m 27ms/step - accuracy: 0.5925 - loss: 0.7097 - val_accuracy: 0.5400 - val_loss: 0.6872\n",
            "Epoch 2/100\n",
            "\u001b[1m88/88\u001b[0m \u001b[32m━━━━━━━━━━━━━━━━━━━━\u001b[0m\u001b[37m\u001b[0m \u001b[1m4s\u001b[0m 38ms/step - accuracy: 0.5465 - loss: 0.6985 - val_accuracy: 0.5400 - val_loss: 0.6874\n",
            "Epoch 3/100\n",
            "\u001b[1m88/88\u001b[0m \u001b[32m━━━━━━━━━━━━━━━━━━━━\u001b[0m\u001b[37m\u001b[0m \u001b[1m4s\u001b[0m 24ms/step - accuracy: 0.5404 - loss: 0.7017 - val_accuracy: 0.5467 - val_loss: 0.6893\n",
            "Epoch 4/100\n",
            "\u001b[1m88/88\u001b[0m \u001b[32m━━━━━━━━━━━━━━━━━━━━\u001b[0m\u001b[37m\u001b[0m \u001b[1m2s\u001b[0m 21ms/step - accuracy: 0.5601 - loss: 0.6980 - val_accuracy: 0.5500 - val_loss: 0.6910\n",
            "Epoch 5/100\n",
            "\u001b[1m88/88\u001b[0m \u001b[32m━━━━━━━━━━━━━━━━━━━━\u001b[0m\u001b[37m\u001b[0m \u001b[1m3s\u001b[0m 23ms/step - accuracy: 0.5399 - loss: 0.7203 - val_accuracy: 0.5467 - val_loss: 0.6763\n",
            "Epoch 6/100\n",
            "\u001b[1m88/88\u001b[0m \u001b[32m━━━━━━━━━━━━━━━━━━━━\u001b[0m\u001b[37m\u001b[0m \u001b[1m3s\u001b[0m 28ms/step - accuracy: 0.5756 - loss: 0.7003 - val_accuracy: 0.5233 - val_loss: 0.6922\n",
            "Epoch 7/100\n",
            "\u001b[1m88/88\u001b[0m \u001b[32m━━━━━━━━━━━━━━━━━━━━\u001b[0m\u001b[37m\u001b[0m \u001b[1m4s\u001b[0m 40ms/step - accuracy: 0.5458 - loss: 0.6881 - val_accuracy: 0.5533 - val_loss: 0.6828\n",
            "Epoch 8/100\n",
            "\u001b[1m88/88\u001b[0m \u001b[32m━━━━━━━━━━━━━━━━━━━━\u001b[0m\u001b[37m\u001b[0m \u001b[1m3s\u001b[0m 21ms/step - accuracy: 0.4851 - loss: 0.7295 - val_accuracy: 0.5233 - val_loss: 0.6874\n",
            "Epoch 9/100\n",
            "\u001b[1m88/88\u001b[0m \u001b[32m━━━━━━━━━━━━━━━━━━━━\u001b[0m\u001b[37m\u001b[0m \u001b[1m2s\u001b[0m 23ms/step - accuracy: 0.5561 - loss: 0.6904 - val_accuracy: 0.5600 - val_loss: 0.6821\n",
            "Epoch 10/100\n",
            "\u001b[1m88/88\u001b[0m \u001b[32m━━━━━━━━━━━━━━━━━━━━\u001b[0m\u001b[37m\u001b[0m \u001b[1m2s\u001b[0m 22ms/step - accuracy: 0.5398 - loss: 0.7020 - val_accuracy: 0.5500 - val_loss: 0.6905\n",
            "Epoch 11/100\n",
            "\u001b[1m88/88\u001b[0m \u001b[32m━━━━━━━━━━━━━━━━━━━━\u001b[0m\u001b[37m\u001b[0m \u001b[1m2s\u001b[0m 24ms/step - accuracy: 0.5275 - loss: 0.6970 - val_accuracy: 0.5500 - val_loss: 0.7004\n",
            "Epoch 12/100\n",
            "\u001b[1m88/88\u001b[0m \u001b[32m━━━━━━━━━━━━━━━━━━━━\u001b[0m\u001b[37m\u001b[0m \u001b[1m4s\u001b[0m 38ms/step - accuracy: 0.5186 - loss: 0.7077 - val_accuracy: 0.5233 - val_loss: 0.6925\n",
            "Epoch 13/100\n",
            "\u001b[1m88/88\u001b[0m \u001b[32m━━━━━━━━━━━━━━━━━━━━\u001b[0m\u001b[37m\u001b[0m \u001b[1m4s\u001b[0m 23ms/step - accuracy: 0.5461 - loss: 0.7077 - val_accuracy: 0.5500 - val_loss: 0.6930\n",
            "Epoch 14/100\n",
            "\u001b[1m88/88\u001b[0m \u001b[32m━━━━━━━━━━━━━━━━━━━━\u001b[0m\u001b[37m\u001b[0m \u001b[1m2s\u001b[0m 22ms/step - accuracy: 0.5531 - loss: 0.6798 - val_accuracy: 0.5500 - val_loss: 0.7102\n",
            "Epoch 15/100\n",
            "\u001b[1m88/88\u001b[0m \u001b[32m━━━━━━━━━━━━━━━━━━━━\u001b[0m\u001b[37m\u001b[0m \u001b[1m3s\u001b[0m 23ms/step - accuracy: 0.5486 - loss: 0.7114 - val_accuracy: 0.5500 - val_loss: 0.7013\n",
            "Epoch 16/100\n",
            "\u001b[1m88/88\u001b[0m \u001b[32m━━━━━━━━━━━━━━━━━━━━\u001b[0m\u001b[37m\u001b[0m \u001b[1m2s\u001b[0m 23ms/step - accuracy: 0.5880 - loss: 0.6857 - val_accuracy: 0.4800 - val_loss: 0.6945\n",
            "Epoch 17/100\n",
            "\u001b[1m88/88\u001b[0m \u001b[32m━━━━━━━━━━━━━━━━━━━━\u001b[0m\u001b[37m\u001b[0m \u001b[1m3s\u001b[0m 38ms/step - accuracy: 0.5382 - loss: 0.6943 - val_accuracy: 0.5500 - val_loss: 0.7178\n",
            "Epoch 18/100\n",
            "\u001b[1m88/88\u001b[0m \u001b[32m━━━━━━━━━━━━━━━━━━━━\u001b[0m\u001b[37m\u001b[0m \u001b[1m3s\u001b[0m 28ms/step - accuracy: 0.5762 - loss: 0.6986 - val_accuracy: 0.5467 - val_loss: 0.6898\n",
            "Epoch 19/100\n",
            "\u001b[1m88/88\u001b[0m \u001b[32m━━━━━━━━━━━━━━━━━━━━\u001b[0m\u001b[37m\u001b[0m \u001b[1m2s\u001b[0m 21ms/step - accuracy: 0.5767 - loss: 0.6866 - val_accuracy: 0.5500 - val_loss: 0.6901\n",
            "Epoch 20/100\n",
            "\u001b[1m88/88\u001b[0m \u001b[32m━━━━━━━━━━━━━━━━━━━━\u001b[0m\u001b[37m\u001b[0m \u001b[1m2s\u001b[0m 21ms/step - accuracy: 0.5403 - loss: 0.7045 - val_accuracy: 0.5500 - val_loss: 0.6997\n",
            "Epoch 21/100\n",
            "\u001b[1m88/88\u001b[0m \u001b[32m━━━━━━━━━━━━━━━━━━━━\u001b[0m\u001b[37m\u001b[0m \u001b[1m2s\u001b[0m 23ms/step - accuracy: 0.6086 - loss: 0.6857 - val_accuracy: 0.4933 - val_loss: 0.7097\n",
            "Epoch 22/100\n",
            "\u001b[1m88/88\u001b[0m \u001b[32m━━━━━━━━━━━━━━━━━━━━\u001b[0m\u001b[37m\u001b[0m \u001b[1m3s\u001b[0m 24ms/step - accuracy: 0.5837 - loss: 0.6886 - val_accuracy: 0.5633 - val_loss: 0.6882\n",
            "Epoch 23/100\n",
            "\u001b[1m88/88\u001b[0m \u001b[32m━━━━━━━━━━━━━━━━━━━━\u001b[0m\u001b[37m\u001b[0m \u001b[1m4s\u001b[0m 40ms/step - accuracy: 0.5504 - loss: 0.6858 - val_accuracy: 0.5500 - val_loss: 0.6909\n",
            "Epoch 24/100\n",
            "\u001b[1m88/88\u001b[0m \u001b[32m━━━━━━━━━━━━━━━━━━━━\u001b[0m\u001b[37m\u001b[0m \u001b[1m4s\u001b[0m 22ms/step - accuracy: 0.5473 - loss: 0.6933 - val_accuracy: 0.5500 - val_loss: 0.7419\n",
            "Epoch 25/100\n",
            "\u001b[1m88/88\u001b[0m \u001b[32m━━━━━━━━━━━━━━━━━━━━\u001b[0m\u001b[37m\u001b[0m \u001b[1m2s\u001b[0m 21ms/step - accuracy: 0.5593 - loss: 0.6771 - val_accuracy: 0.5533 - val_loss: 0.6863\n",
            "Epoch 26/100\n",
            "\u001b[1m88/88\u001b[0m \u001b[32m━━━━━━━━━━━━━━━━━━━━\u001b[0m\u001b[37m\u001b[0m \u001b[1m2s\u001b[0m 22ms/step - accuracy: 0.4996 - loss: 0.7052 - val_accuracy: 0.5533 - val_loss: 0.6925\n",
            "Epoch 27/100\n",
            "\u001b[1m88/88\u001b[0m \u001b[32m━━━━━━━━━━━━━━━━━━━━\u001b[0m\u001b[37m\u001b[0m \u001b[1m2s\u001b[0m 23ms/step - accuracy: 0.5869 - loss: 0.6746 - val_accuracy: 0.5367 - val_loss: 0.6901\n",
            "Epoch 28/100\n",
            "\u001b[1m88/88\u001b[0m \u001b[32m━━━━━━━━━━━━━━━━━━━━\u001b[0m\u001b[37m\u001b[0m \u001b[1m3s\u001b[0m 30ms/step - accuracy: 0.5806 - loss: 0.6777 - val_accuracy: 0.5533 - val_loss: 0.7059\n",
            "Epoch 29/100\n",
            "\u001b[1m88/88\u001b[0m \u001b[32m━━━━━━━━━━━━━━━━━━━━\u001b[0m\u001b[37m\u001b[0m \u001b[1m3s\u001b[0m 35ms/step - accuracy: 0.5792 - loss: 0.6854 - val_accuracy: 0.5500 - val_loss: 0.6977\n",
            "Epoch 30/100\n",
            "\u001b[1m88/88\u001b[0m \u001b[32m━━━━━━━━━━━━━━━━━━━━\u001b[0m\u001b[37m\u001b[0m \u001b[1m2s\u001b[0m 22ms/step - accuracy: 0.5828 - loss: 0.6675 - val_accuracy: 0.4567 - val_loss: 0.6979\n",
            "Epoch 31/100\n",
            "\u001b[1m88/88\u001b[0m \u001b[32m━━━━━━━━━━━━━━━━━━━━\u001b[0m\u001b[37m\u001b[0m \u001b[1m2s\u001b[0m 23ms/step - accuracy: 0.5712 - loss: 0.6749 - val_accuracy: 0.5500 - val_loss: 0.7152\n",
            "Epoch 32/100\n",
            "\u001b[1m88/88\u001b[0m \u001b[32m━━━━━━━━━━━━━━━━━━━━\u001b[0m\u001b[37m\u001b[0m \u001b[1m2s\u001b[0m 24ms/step - accuracy: 0.5766 - loss: 0.6743 - val_accuracy: 0.4867 - val_loss: 0.7387\n",
            "Epoch 33/100\n",
            "\u001b[1m88/88\u001b[0m \u001b[32m━━━━━━━━━━━━━━━━━━━━\u001b[0m\u001b[37m\u001b[0m \u001b[1m2s\u001b[0m 21ms/step - accuracy: 0.6113 - loss: 0.6595 - val_accuracy: 0.5333 - val_loss: 0.7963\n",
            "Epoch 34/100\n",
            "\u001b[1m88/88\u001b[0m \u001b[32m━━━━━━━━━━━━━━━━━━━━\u001b[0m\u001b[37m\u001b[0m \u001b[1m4s\u001b[0m 37ms/step - accuracy: 0.6153 - loss: 0.6772 - val_accuracy: 0.4967 - val_loss: 0.7291\n",
            "Epoch 35/100\n",
            "\u001b[1m88/88\u001b[0m \u001b[32m━━━━━━━━━━━━━━━━━━━━\u001b[0m\u001b[37m\u001b[0m \u001b[1m4s\u001b[0m 25ms/step - accuracy: 0.6505 - loss: 0.6356 - val_accuracy: 0.5067 - val_loss: 0.7677\n",
            "Epoch 36/100\n",
            "\u001b[1m88/88\u001b[0m \u001b[32m━━━━━━━━━━━━━━━━━━━━\u001b[0m\u001b[37m\u001b[0m \u001b[1m2s\u001b[0m 24ms/step - accuracy: 0.6349 - loss: 0.6122 - val_accuracy: 0.5100 - val_loss: 0.7509\n",
            "Epoch 37/100\n",
            "\u001b[1m88/88\u001b[0m \u001b[32m━━━━━━━━━━━━━━━━━━━━\u001b[0m\u001b[37m\u001b[0m \u001b[1m2s\u001b[0m 22ms/step - accuracy: 0.7253 - loss: 0.5647 - val_accuracy: 0.4933 - val_loss: 0.9128\n",
            "Epoch 38/100\n",
            "\u001b[1m88/88\u001b[0m \u001b[32m━━━━━━━━━━━━━━━━━━━━\u001b[0m\u001b[37m\u001b[0m \u001b[1m3s\u001b[0m 31ms/step - accuracy: 0.7404 - loss: 0.5593 - val_accuracy: 0.4500 - val_loss: 1.0781\n",
            "Epoch 39/100\n",
            "\u001b[1m88/88\u001b[0m \u001b[32m━━━━━━━━━━━━━━━━━━━━\u001b[0m\u001b[37m\u001b[0m \u001b[1m3s\u001b[0m 33ms/step - accuracy: 0.7582 - loss: 0.5180 - val_accuracy: 0.5200 - val_loss: 0.9680\n",
            "Epoch 40/100\n",
            "\u001b[1m88/88\u001b[0m \u001b[32m━━━━━━━━━━━━━━━━━━━━\u001b[0m\u001b[37m\u001b[0m \u001b[1m2s\u001b[0m 22ms/step - accuracy: 0.7877 - loss: 0.4292 - val_accuracy: 0.4400 - val_loss: 1.0094\n",
            "Epoch 41/100\n",
            "\u001b[1m88/88\u001b[0m \u001b[32m━━━━━━━━━━━━━━━━━━━━\u001b[0m\u001b[37m\u001b[0m \u001b[1m2s\u001b[0m 24ms/step - accuracy: 0.8001 - loss: 0.4241 - val_accuracy: 0.4600 - val_loss: 1.0905\n",
            "Epoch 42/100\n",
            "\u001b[1m88/88\u001b[0m \u001b[32m━━━━━━━━━━━━━━━━━━━━\u001b[0m\u001b[37m\u001b[0m \u001b[1m2s\u001b[0m 23ms/step - accuracy: 0.8671 - loss: 0.3281 - val_accuracy: 0.4500 - val_loss: 1.3983\n"
          ]
        }
      ],
      "source": [
        "# Fit model\n",
        "model1_history = model1.fit(padded_sequences_train, labels_train,\n",
        "                            epochs=100, batch_size=8,\n",
        "                            validation_data=(padded_sequences_test, labels_test),\n",
        "                            callbacks=early_stopping)"
      ]
    },
    {
      "cell_type": "code",
      "execution_count": null,
      "metadata": {
        "id": "6ZiLAfPMkQ8n"
      },
      "outputs": [],
      "source": [
        "import os\n",
        "\n",
        "# Create the 'saved_models' directory if it doesn't exist\n",
        "os.makedirs(\"saved_models\", exist_ok=True)\n",
        "\n",
        "# Save model\n",
        "model1.save(\"saved_models/model1.keras\")"
      ]
    },
    {
      "cell_type": "code",
      "execution_count": null,
      "metadata": {
        "id": "CofxLG3nkQ_z"
      },
      "outputs": [],
      "source": [
        "# Load model\n",
        "model1 = keras.models.load_model(\"saved_models/model1.keras\") # Added .keras extension to the file name"
      ]
    },
    {
      "cell_type": "code",
      "execution_count": null,
      "metadata": {
        "colab": {
          "base_uri": "https://localhost:8080/",
          "height": 449
        },
        "id": "jRAlYrWgkRB_",
        "outputId": "2eaface3-40d9-4f7b-abfa-01227168d170"
      },
      "outputs": [
        {
          "data": {
            "image/png": "[encoded data removed]",
            "text/plain": [
              "<Figure size 640x480 with 1 Axes>"
            ]
          },
          "metadata": {},
          "output_type": "display_data"
        }
      ],
      "source": [
        "# Learning curve: Loss\n",
        "plt.plot(model1_history.history[\"loss\"], label=\"Train Loss\")\n",
        "plt.plot(model1_history.history[\"val_loss\"], label=\"Test Loss\")\n",
        "plt.xlabel(\"Epoch\")\n",
        "plt.ylabel(\"Loss\")\n",
        "plt.legend()\n",
        "plt.show()"
      ]
    },
    {
      "cell_type": "code",
      "execution_count": null,
      "metadata": {
        "colab": {
          "base_uri": "https://localhost:8080/",
          "height": 449
        },
        "id": "WYwRGh6_kRE-",
        "outputId": "21fe2f26-df20-43ad-f9ef-fa10c30f68c3"
      },
      "outputs": [
        {
          "data": {
            "image/png": "[encoded data removed]",
            "text/plain": [
              "<Figure size 640x480 with 1 Axes>"
            ]
          },
          "metadata": {},
          "output_type": "display_data"
        }
      ],
      "source": [
        "# Learning curve: Accuracy\n",
        "plt.plot(model1_history.history[\"accuracy\"], label=\"Train Accuracy\")\n",
        "plt.plot(model1_history.history[\"val_accuracy\"], label=\"Test Accuracy\")\n",
        "plt.xlabel(\"Epoch\")\n",
        "plt.ylabel(\"Accuracy\")\n",
        "plt.legend()\n",
        "plt.show()"
      ]
    },
    {
      "cell_type": "code",
      "execution_count": null,
      "metadata": {
        "colab": {
          "base_uri": "https://localhost:8080/"
        },
        "id": "5IKiu7UwmP59",
        "outputId": "ae047f60-b21c-495b-f7a3-37362308efd9"
      },
      "outputs": [
        {
          "name": "stdout",
          "output_type": "stream",
          "text": [
            "\u001b[1m22/22\u001b[0m \u001b[32m━━━━━━━━━━━━━━━━━━━━\u001b[0m\u001b[37m\u001b[0m \u001b[1m1s\u001b[0m 7ms/step - accuracy: 0.5677 - loss: 0.6784\n",
            "\u001b[1m10/10\u001b[0m \u001b[32m━━━━━━━━━━━━━━━━━━━━\u001b[0m\u001b[37m\u001b[0m \u001b[1m0s\u001b[0m 7ms/step - accuracy: 0.5977 - loss: 0.6792\n",
            "Accuracy Train data:  0.5830945372581482\n",
            "Accuracy Test data:  0.5633333325386047\n"
          ]
        }
      ],
      "source": [
        "# Evaluate model: Accuracy for training and test data\n",
        "train_score_model1 = model1.evaluate(padded_sequences_train, labels_train)\n",
        "test_score_model1 = model1.evaluate(padded_sequences_test, labels_test)\n",
        "print(\"Accuracy Train data: \", train_score_model1[1])\n",
        "print(\"Accuracy Test data: \", test_score_model1[1])"
      ]
    },
    {
      "cell_type": "code",
      "execution_count": null,
      "metadata": {
        "colab": {
          "base_uri": "https://localhost:8080/"
        },
        "id": "x-7tHkKTmP8x",
        "outputId": "a843db0d-3e20-4cfc-b755-06798c90e5ea"
      },
      "outputs": [
        {
          "name": "stdout",
          "output_type": "stream",
          "text": [
            "\u001b[1m10/10\u001b[0m \u001b[32m━━━━━━━━━━━━━━━━━━━━\u001b[0m\u001b[37m\u001b[0m \u001b[1m1s\u001b[0m 54ms/step\n"
          ]
        }
      ],
      "source": [
        "# Predicted labels for test data\n",
        "labels_pred_prob_model1 = model1.predict(padded_sequences_test)\n",
        "labels_pred_model1 = labels_pred_prob_model1.copy()\n",
        "labels_pred_model1[labels_pred_model1 >= 0.5] = 1\n",
        "labels_pred_model1[labels_pred_model1 < 0.5] = 0"
      ]
    },
    {
      "cell_type": "code",
      "execution_count": null,
      "metadata": {
        "colab": {
          "base_uri": "https://localhost:8080/"
        },
        "id": "54p3q2m4mP_l",
        "outputId": "a31fbf75-dd08-4842-f033-49f208a88291"
      },
      "outputs": [
        {
          "name": "stdout",
          "output_type": "stream",
          "text": [
            "Classification Report: Model 1 (SimpleRNN)\n",
            "              precision    recall  f1-score   support\n",
            "\n",
            "           0       0.56      0.97      0.71       165\n",
            "           1       0.64      0.07      0.12       135\n",
            "\n",
            "    accuracy                           0.56       300\n",
            "   macro avg       0.60      0.52      0.42       300\n",
            "weighted avg       0.60      0.56      0.44       300\n",
            "\n"
          ]
        }
      ],
      "source": [
        "# Evaluate model: Classification report for test data\n",
        "print(\"Classification Report: Model 1 (SimpleRNN)\")\n",
        "print(classification_report(labels_test, labels_pred_model1))"
      ]
    },
    {
      "cell_type": "code",
      "execution_count": null,
      "metadata": {
        "colab": {
          "base_uri": "https://localhost:8080/",
          "height": 472
        },
        "id": "oTEhZYIamQC7",
        "outputId": "59576a75-a0df-41b9-da1e-bfed851ca62e"
      },
      "outputs": [
        {
          "data": {
            "text/plain": [
              "<sklearn.metrics._plot.confusion_matrix.ConfusionMatrixDisplay at 0x7de6259e85e0>"
            ]
          },
          "execution_count": 41,
          "metadata": {},
          "output_type": "execute_result"
        },
        {
          "data": {
            "image/png": "[encoded data removed]",
            "text/plain": [
              "<Figure size 640x480 with 2 Axes>"
            ]
          },
          "metadata": {},
          "output_type": "display_data"
        }
      ],
      "source": [
        "# Evaluate model: Confusion matrix for test data\n",
        "cm = confusion_matrix(labels_test, labels_pred_model1)\n",
        "cm_disp = ConfusionMatrixDisplay(cm)\n",
        "cm_disp.plot()"
      ]
    },
    {
      "cell_type": "code",
      "execution_count": null,
      "metadata": {
        "colab": {
          "base_uri": "https://localhost:8080/"
        },
        "id": "tPjdOXMMmQFa",
        "outputId": "2ecc4e39-24ab-4d7b-c7c7-fd1bc2780abe"
      },
      "outputs": [
        {
          "name": "stdout",
          "output_type": "stream",
          "text": [
            "Comment: Women deserve to be abused, I guess.\n",
            "True label: 1\n",
            "Predicted label: 0\n",
            "===\n",
            "Comment: Christians are all demonic\n",
            "True label: 1\n",
            "Predicted label: 0\n",
            "===\n",
            "Comment: Muslims want war! So take it to them first\n",
            "True label: 1\n",
            "Predicted label: 0\n",
            "===\n",
            "Comment: Fat lesbians\n",
            "True label: 1\n",
            "Predicted label: 0\n",
            "===\n",
            "Comment: What imaginary gender are you?\n",
            "True label: 1\n",
            "Predicted label: 0\n",
            "===\n"
          ]
        }
      ],
      "source": [
        "# Illustrative examples: True vs. predicted labels for clear and obvious hate speech\n",
        "for i in [236, 207, 15, 29, 183]:\n",
        "    print(f\"Comment: {comments_test[i]}\")\n",
        "    print(f\"True label: {labels_test[i]}\")\n",
        "    print(f\"Predicted label: {int(labels_pred_model1[i][0])}\")\n",
        "    print(\"===\")"
      ]
    },
    {
      "cell_type": "code",
      "execution_count": null,
      "metadata": {
        "id": "4R-zw_bWm7cT"
      },
      "outputs": [],
      "source": [
        "# Model 2: LSTM"
      ]
    },
    {
      "cell_type": "code",
      "execution_count": null,
      "metadata": {
        "id": "SqifNjt3m7fG"
      },
      "outputs": [],
      "source": [
        "# Initialize tokenizer\n",
        "num_words = 5000  # maximum number of unique words in the dictionary of the tokenizer\n",
        "tokenizer = keras.preprocessing.text.Tokenizer(\n",
        "    num_words=num_words,\n",
        "    filters='\"!#$%&()*+,-./:;<=>?@[\\\\]^_`{|}~\\t\\n',\n",
        "    lower=True, split=\" \", char_level=False, oov_token=None)"
      ]
    },
    {
      "cell_type": "code",
      "execution_count": null,
      "metadata": {
        "id": "8Jbv5lPCm7ht"
      },
      "outputs": [],
      "source": [
        "# Fit tokenizer to training data\n",
        "tokenizer.fit_on_texts(comments_train)"
      ]
    },
    {
      "cell_type": "code",
      "execution_count": null,
      "metadata": {
        "id": "4POJefrkm7kg"
      },
      "outputs": [],
      "source": [
        "# Apply tokenizer to training and test data\n",
        "sequences_train = tokenizer.texts_to_sequences(comments_train)\n",
        "sequences_test = tokenizer.texts_to_sequences(comments_test)"
      ]
    },
    {
      "cell_type": "code",
      "execution_count": null,
      "metadata": {
        "id": "WUqYzYTGm7nl"
      },
      "outputs": [],
      "source": [
        "# Apply sequence padding to obtain consistent sequence length\n",
        "max_length = 150\n",
        "padded_sequences_train = keras.preprocessing.sequence.pad_sequences(\n",
        "    sequences_train,\n",
        "    maxlen=max_length,\n",
        "    truncating=\"post\",\n",
        "    padding=\"post\"\n",
        "    )\n",
        "padded_sequences_test = keras.preprocessing.sequence.pad_sequences(\n",
        "    sequences_test,\n",
        "    maxlen=max_length,\n",
        "    truncating=\"post\",\n",
        "    padding=\"post\"\n",
        "    )\n"
      ]
    },
    {
      "cell_type": "code",
      "execution_count": null,
      "metadata": {
        "id": "nGO9LTAtpG7j"
      },
      "outputs": [],
      "source": [
        "# Specify the number of dimensions of the word vectors in the embedding layer\n",
        "word_vector_dim = 50"
      ]
    },
    {
      "cell_type": "code",
      "execution_count": null,
      "metadata": {
        "colab": {
          "base_uri": "https://localhost:8080/"
        },
        "id": "7AphqfM5pG-V",
        "outputId": "2f4d9c66-8815-43ea-99d9-75a956ac1835"
      },
      "outputs": [
        {
          "name": "stderr",
          "output_type": "stream",
          "text": [
            "/usr/local/lib/python3.10/dist-packages/keras/src/layers/core/embedding.py:90: UserWarning: Argument `input_length` is deprecated. Just remove it.\n",
            "  warnings.warn(\n"
          ]
        }
      ],
      "source": [
        "# Specify model\n",
        "model2 = keras.models.Sequential()\n",
        "model2.add(keras.layers.Embedding(num_words+1,  # number of words in tokenizer +1 for the \"0\" used for padding\n",
        "                                  word_vector_dim,\n",
        "                                  input_length=max_length,\n",
        "                                  mask_zero=True))\n",
        "model2.add(keras.layers.LSTM(128,\n",
        "                             return_sequences=True,\n",
        "                             dropout=dropout_rate,\n",
        "                             recurrent_dropout=dropout_rate))\n",
        "model2.add(keras.layers.LSTM(128,\n",
        "                             dropout=dropout_rate,\n",
        "                             recurrent_dropout=dropout_rate))\n",
        "model2.add(keras.layers.Dense(64, activation=\"relu\"))\n",
        "model2.add(keras.layers.Dense(1, activation=\"sigmoid\"))"
      ]
    },
    {
      "cell_type": "code",
      "execution_count": null,
      "metadata": {
        "colab": {
          "base_uri": "https://localhost:8080/",
          "height": 289
        },
        "id": "XGR849A6pHBM",
        "outputId": "d536cd0e-5cf0-423f-e26e-16156dcfa55e"
      },
      "outputs": [
        {
          "data": {
            "text/html": [
              "<pre style=\"white-space:pre;overflow-x:auto;line-height:normal;font-family:Menlo,'DejaVu Sans Mono',consolas,'Courier New',monospace\"><span style=\"font-weight: bold\">Model: \"sequential_1\"</span>\n",
              "</pre>\n"
            ],
            "text/plain": [
              "\u001b[1mModel: \"sequential_1\"\u001b[0m\n"
            ]
          },
          "metadata": {},
          "output_type": "display_data"
        },
        {
          "data": {
            "text/html": [
              "<pre style=\"white-space:pre;overflow-x:auto;line-height:normal;font-family:Menlo,'DejaVu Sans Mono',consolas,'Courier New',monospace\">┏━━━━━━━━━━━━━━━━━━━━━━━━━━━━━━━━━━━━━━┳━━━━━━━━━━━━━━━━━━━━━━━━━━━━━┳━━━━━━━━━━━━━━━━━┓\n",
              "┃<span style=\"font-weight: bold\"> Layer (type)                         </span>┃<span style=\"font-weight: bold\"> Output Shape                </span>┃<span style=\"font-weight: bold\">         Param # </span>┃\n",
              "┡━━━━━━━━━━━━━━━━━━━━━━━━━━━━━━━━━━━━━━╇━━━━━━━━━━━━━━━━━━━━━━━━━━━━━╇━━━━━━━━━━━━━━━━━┩\n",
              "│ embedding_1 (<span style=\"color: #0087ff; text-decoration-color: #0087ff\">Embedding</span>)              │ ?                           │     <span style=\"color: #00af00; text-decoration-color: #00af00\">0</span> (unbuilt) │\n",
              "├──────────────────────────────────────┼─────────────────────────────┼─────────────────┤\n",
              "│ lstm (<span style=\"color: #0087ff; text-decoration-color: #0087ff\">LSTM</span>)                          │ ?                           │     <span style=\"color: #00af00; text-decoration-color: #00af00\">0</span> (unbuilt) │\n",
              "├──────────────────────────────────────┼─────────────────────────────┼─────────────────┤\n",
              "│ lstm_1 (<span style=\"color: #0087ff; text-decoration-color: #0087ff\">LSTM</span>)                        │ ?                           │     <span style=\"color: #00af00; text-decoration-color: #00af00\">0</span> (unbuilt) │\n",
              "├──────────────────────────────────────┼─────────────────────────────┼─────────────────┤\n",
              "│ dense_2 (<span style=\"color: #0087ff; text-decoration-color: #0087ff\">Dense</span>)                      │ ?                           │     <span style=\"color: #00af00; text-decoration-color: #00af00\">0</span> (unbuilt) │\n",
              "├──────────────────────────────────────┼─────────────────────────────┼─────────────────┤\n",
              "│ dense_3 (<span style=\"color: #0087ff; text-decoration-color: #0087ff\">Dense</span>)                      │ ?                           │     <span style=\"color: #00af00; text-decoration-color: #00af00\">0</span> (unbuilt) │\n",
              "└──────────────────────────────────────┴─────────────────────────────┴─────────────────┘\n",
              "</pre>\n"
            ],
            "text/plain": [
              "┏━━━━━━━━━━━━━━━━━━━━━━━━━━━━━━━━━━━━━━┳━━━━━━━━━━━━━━━━━━━━━━━━━━━━━┳━━━━━━━━━━━━━━━━━┓\n",
              "┃\u001b[1m \u001b[0m\u001b[1mLayer (type)                        \u001b[0m\u001b[1m \u001b[0m┃\u001b[1m \u001b[0m\u001b[1mOutput Shape               \u001b[0m\u001b[1m \u001b[0m┃\u001b[1m \u001b[0m\u001b[1m        Param #\u001b[0m\u001b[1m \u001b[0m┃\n",
              "┡━━━━━━━━━━━━━━━━━━━━━━━━━━━━━━━━━━━━━━╇━━━━━━━━━━━━━━━━━━━━━━━━━━━━━╇━━━━━━━━━━━━━━━━━┩\n",
              "│ embedding_1 (\u001b[38;5;33mEmbedding\u001b[0m)              │ ?                           │     \u001b[38;5;34m0\u001b[0m (unbuilt) │\n",
              "├──────────────────────────────────────┼─────────────────────────────┼─────────────────┤\n",
              "│ lstm (\u001b[38;5;33mLSTM\u001b[0m)                          │ ?                           │     \u001b[38;5;34m0\u001b[0m (unbuilt) │\n",
              "├──────────────────────────────────────┼─────────────────────────────┼─────────────────┤\n",
              "│ lstm_1 (\u001b[38;5;33mLSTM\u001b[0m)                        │ ?                           │     \u001b[38;5;34m0\u001b[0m (unbuilt) │\n",
              "├──────────────────────────────────────┼─────────────────────────────┼─────────────────┤\n",
              "│ dense_2 (\u001b[38;5;33mDense\u001b[0m)                      │ ?                           │     \u001b[38;5;34m0\u001b[0m (unbuilt) │\n",
              "├──────────────────────────────────────┼─────────────────────────────┼─────────────────┤\n",
              "│ dense_3 (\u001b[38;5;33mDense\u001b[0m)                      │ ?                           │     \u001b[38;5;34m0\u001b[0m (unbuilt) │\n",
              "└──────────────────────────────────────┴─────────────────────────────┴─────────────────┘\n"
            ]
          },
          "metadata": {},
          "output_type": "display_data"
        },
        {
          "data": {
            "text/html": [
              "<pre style=\"white-space:pre;overflow-x:auto;line-height:normal;font-family:Menlo,'DejaVu Sans Mono',consolas,'Courier New',monospace\"><span style=\"font-weight: bold\"> Total params: </span><span style=\"color: #00af00; text-decoration-color: #00af00\">0</span> (0.00 B)\n",
              "</pre>\n"
            ],
            "text/plain": [
              "\u001b[1m Total params: \u001b[0m\u001b[38;5;34m0\u001b[0m (0.00 B)\n"
            ]
          },
          "metadata": {},
          "output_type": "display_data"
        },
        {
          "data": {
            "text/html": [
              "<pre style=\"white-space:pre;overflow-x:auto;line-height:normal;font-family:Menlo,'DejaVu Sans Mono',consolas,'Courier New',monospace\"><span style=\"font-weight: bold\"> Trainable params: </span><span style=\"color: #00af00; text-decoration-color: #00af00\">0</span> (0.00 B)\n",
              "</pre>\n"
            ],
            "text/plain": [
              "\u001b[1m Trainable params: \u001b[0m\u001b[38;5;34m0\u001b[0m (0.00 B)\n"
            ]
          },
          "metadata": {},
          "output_type": "display_data"
        },
        {
          "data": {
            "text/html": [
              "<pre style=\"white-space:pre;overflow-x:auto;line-height:normal;font-family:Menlo,'DejaVu Sans Mono',consolas,'Courier New',monospace\"><span style=\"font-weight: bold\"> Non-trainable params: </span><span style=\"color: #00af00; text-decoration-color: #00af00\">0</span> (0.00 B)\n",
              "</pre>\n"
            ],
            "text/plain": [
              "\u001b[1m Non-trainable params: \u001b[0m\u001b[38;5;34m0\u001b[0m (0.00 B)\n"
            ]
          },
          "metadata": {},
          "output_type": "display_data"
        }
      ],
      "source": [
        "# Summarize model\n",
        "model2.summary()"
      ]
    },
    {
      "cell_type": "code",
      "execution_count": null,
      "metadata": {
        "id": "iRM2YqINpHFE"
      },
      "outputs": [],
      "source": [
        "# Compile model\n",
        "optimizer = keras.optimizers.Adam(learning_rate=0.001)\n",
        "model2.compile(optimizer=optimizer,\n",
        "               loss=\"binary_crossentropy\",\n",
        "               metrics=[\"accuracy\"])"
      ]
    },
    {
      "cell_type": "code",
      "execution_count": null,
      "metadata": {
        "colab": {
          "base_uri": "https://localhost:8080/"
        },
        "id": "__H71coupHQM",
        "outputId": "e1faeea0-2f08-49de-d7f4-7ce3425c84b9"
      },
      "outputs": [
        {
          "name": "stdout",
          "output_type": "stream",
          "text": [
            "Epoch 1/100\n",
            "\u001b[1m22/22\u001b[0m \u001b[32m━━━━━━━━━━━━━━━━━━━━\u001b[0m\u001b[37m\u001b[0m \u001b[1m24s\u001b[0m 785ms/step - accuracy: 0.5305 - loss: 0.6909 - val_accuracy: 0.5500 - val_loss: 0.6875\n",
            "Epoch 2/100\n",
            "\u001b[1m22/22\u001b[0m \u001b[32m━━━━━━━━━━━━━━━━━━━━\u001b[0m\u001b[37m\u001b[0m \u001b[1m16s\u001b[0m 736ms/step - accuracy: 0.5619 - loss: 0.6879 - val_accuracy: 0.5500 - val_loss: 0.6852\n",
            "Epoch 3/100\n",
            "\u001b[1m22/22\u001b[0m \u001b[32m━━━━━━━━━━━━━━━━━━━━\u001b[0m\u001b[37m\u001b[0m \u001b[1m20s\u001b[0m 727ms/step - accuracy: 0.5899 - loss: 0.6637 - val_accuracy: 0.6100 - val_loss: 0.6580\n",
            "Epoch 4/100\n",
            "\u001b[1m22/22\u001b[0m \u001b[32m━━━━━━━━━━━━━━━━━━━━\u001b[0m\u001b[37m\u001b[0m \u001b[1m22s\u001b[0m 783ms/step - accuracy: 0.7230 - loss: 0.5785 - val_accuracy: 0.6800 - val_loss: 0.6196\n",
            "Epoch 5/100\n",
            "\u001b[1m22/22\u001b[0m \u001b[32m━━━━━━━━━━━━━━━━━━━━\u001b[0m\u001b[37m\u001b[0m \u001b[1m17s\u001b[0m 802ms/step - accuracy: 0.8485 - loss: 0.3611 - val_accuracy: 0.6600 - val_loss: 0.6828\n",
            "Epoch 6/100\n",
            "\u001b[1m22/22\u001b[0m \u001b[32m━━━━━━━━━━━━━━━━━━━━\u001b[0m\u001b[37m\u001b[0m \u001b[1m20s\u001b[0m 774ms/step - accuracy: 0.9345 - loss: 0.2130 - val_accuracy: 0.6733 - val_loss: 0.8471\n",
            "Epoch 7/100\n",
            "\u001b[1m22/22\u001b[0m \u001b[32m━━━━━━━━━━━━━━━━━━━━\u001b[0m\u001b[37m\u001b[0m \u001b[1m19s\u001b[0m 734ms/step - accuracy: 0.9634 - loss: 0.1298 - val_accuracy: 0.6600 - val_loss: 1.1435\n",
            "Epoch 8/100\n",
            "\u001b[1m22/22\u001b[0m \u001b[32m━━━━━━━━━━━━━━━━━━━━\u001b[0m\u001b[37m\u001b[0m \u001b[1m21s\u001b[0m 776ms/step - accuracy: 0.9860 - loss: 0.0531 - val_accuracy: 0.6800 - val_loss: 1.2411\n",
            "Epoch 9/100\n",
            "\u001b[1m22/22\u001b[0m \u001b[32m━━━━━━━━━━━━━━━━━━━━\u001b[0m\u001b[37m\u001b[0m \u001b[1m16s\u001b[0m 728ms/step - accuracy: 0.9749 - loss: 0.0666 - val_accuracy: 0.6833 - val_loss: 1.2812\n",
            "Epoch 10/100\n",
            "\u001b[1m22/22\u001b[0m \u001b[32m━━━━━━━━━━━━━━━━━━━━\u001b[0m\u001b[37m\u001b[0m \u001b[1m20s\u001b[0m 750ms/step - accuracy: 0.9847 - loss: 0.0483 - val_accuracy: 0.6600 - val_loss: 1.2696\n",
            "Epoch 11/100\n",
            "\u001b[1m22/22\u001b[0m \u001b[32m━━━━━━━━━━━━━━━━━━━━\u001b[0m\u001b[37m\u001b[0m \u001b[1m16s\u001b[0m 744ms/step - accuracy: 0.9971 - loss: 0.0219 - val_accuracy: 0.6900 - val_loss: 1.5576\n",
            "Epoch 12/100\n",
            "\u001b[1m22/22\u001b[0m \u001b[32m━━━━━━━━━━━━━━━━━━━━\u001b[0m\u001b[37m\u001b[0m \u001b[1m16s\u001b[0m 746ms/step - accuracy: 0.9952 - loss: 0.0222 - val_accuracy: 0.6733 - val_loss: 1.5695\n",
            "Epoch 13/100\n",
            "\u001b[1m22/22\u001b[0m \u001b[32m━━━━━━━━━━━━━━━━━━━━\u001b[0m\u001b[37m\u001b[0m \u001b[1m20s\u001b[0m 716ms/step - accuracy: 0.9989 - loss: 0.0114 - val_accuracy: 0.6633 - val_loss: 1.5476\n",
            "Epoch 14/100\n",
            "\u001b[1m22/22\u001b[0m \u001b[32m━━━━━━━━━━━━━━━━━━━━\u001b[0m\u001b[37m\u001b[0m \u001b[1m22s\u001b[0m 776ms/step - accuracy: 0.9912 - loss: 0.0200 - val_accuracy: 0.6567 - val_loss: 1.7940\n",
            "Epoch 15/100\n",
            "\u001b[1m22/22\u001b[0m \u001b[32m━━━━━━━━━━━━━━━━━━━━\u001b[0m\u001b[37m\u001b[0m \u001b[1m20s\u001b[0m 737ms/step - accuracy: 0.9973 - loss: 0.0108 - val_accuracy: 0.6533 - val_loss: 1.6713\n",
            "Epoch 16/100\n",
            "\u001b[1m22/22\u001b[0m \u001b[32m━━━━━━━━━━━━━━━━━━━━\u001b[0m\u001b[37m\u001b[0m \u001b[1m16s\u001b[0m 732ms/step - accuracy: 0.9967 - loss: 0.0108 - val_accuracy: 0.6600 - val_loss: 1.8541\n",
            "Epoch 17/100\n",
            "\u001b[1m22/22\u001b[0m \u001b[32m━━━━━━━━━━━━━━━━━━━━\u001b[0m\u001b[37m\u001b[0m \u001b[1m16s\u001b[0m 720ms/step - accuracy: 0.9991 - loss: 0.0038 - val_accuracy: 0.6700 - val_loss: 1.9070\n",
            "Epoch 18/100\n",
            "\u001b[1m22/22\u001b[0m \u001b[32m━━━━━━━━━━━━━━━━━━━━\u001b[0m\u001b[37m\u001b[0m \u001b[1m23s\u001b[0m 837ms/step - accuracy: 0.9993 - loss: 0.0052 - val_accuracy: 0.6267 - val_loss: 2.4474\n",
            "Epoch 19/100\n",
            "\u001b[1m22/22\u001b[0m \u001b[32m━━━━━━━━━━━━━━━━━━━━\u001b[0m\u001b[37m\u001b[0m \u001b[1m17s\u001b[0m 692ms/step - accuracy: 0.9866 - loss: 0.0290 - val_accuracy: 0.6567 - val_loss: 2.1703\n",
            "Epoch 20/100\n",
            "\u001b[1m22/22\u001b[0m \u001b[32m━━━━━━━━━━━━━━━━━━━━\u001b[0m\u001b[37m\u001b[0m \u001b[1m24s\u001b[0m 856ms/step - accuracy: 0.9991 - loss: 0.0026 - val_accuracy: 0.6600 - val_loss: 2.3528\n",
            "Epoch 21/100\n",
            "\u001b[1m22/22\u001b[0m \u001b[32m━━━━━━━━━━━━━━━━━━━━\u001b[0m\u001b[37m\u001b[0m \u001b[1m18s\u001b[0m 772ms/step - accuracy: 1.0000 - loss: 0.0042 - val_accuracy: 0.6700 - val_loss: 2.3708\n",
            "Epoch 22/100\n",
            "\u001b[1m22/22\u001b[0m \u001b[32m━━━━━━━━━━━━━━━━━━━━\u001b[0m\u001b[37m\u001b[0m \u001b[1m17s\u001b[0m 777ms/step - accuracy: 0.9954 - loss: 0.0241 - val_accuracy: 0.6633 - val_loss: 2.0014\n",
            "Epoch 23/100\n",
            "\u001b[1m22/22\u001b[0m \u001b[32m━━━━━━━━━━━━━━━━━━━━\u001b[0m\u001b[37m\u001b[0m \u001b[1m20s\u001b[0m 747ms/step - accuracy: 0.9962 - loss: 0.0137 - val_accuracy: 0.6667 - val_loss: 2.2081\n",
            "Epoch 24/100\n",
            "\u001b[1m22/22\u001b[0m \u001b[32m━━━━━━━━━━━━━━━━━━━━\u001b[0m\u001b[37m\u001b[0m \u001b[1m29s\u001b[0m 1s/step - accuracy: 0.9992 - loss: 0.0032 - val_accuracy: 0.6533 - val_loss: 2.4473\n",
            "Epoch 25/100\n",
            "\u001b[1m22/22\u001b[0m \u001b[32m━━━━━━━━━━━━━━━━━━━━\u001b[0m\u001b[37m\u001b[0m \u001b[1m34s\u001b[0m 801ms/step - accuracy: 1.0000 - loss: 0.0022 - val_accuracy: 0.6533 - val_loss: 2.5204\n",
            "Epoch 26/100\n",
            "\u001b[1m22/22\u001b[0m \u001b[32m━━━━━━━━━━━━━━━━━━━━\u001b[0m\u001b[37m\u001b[0m \u001b[1m20s\u001b[0m 770ms/step - accuracy: 1.0000 - loss: 0.0013 - val_accuracy: 0.6767 - val_loss: 2.5848\n",
            "Epoch 27/100\n",
            "\u001b[1m22/22\u001b[0m \u001b[32m━━━━━━━━━━━━━━━━━━━━\u001b[0m\u001b[37m\u001b[0m \u001b[1m17s\u001b[0m 781ms/step - accuracy: 0.9960 - loss: 0.0125 - val_accuracy: 0.6533 - val_loss: 2.5864\n",
            "Epoch 28/100\n",
            "\u001b[1m22/22\u001b[0m \u001b[32m━━━━━━━━━━━━━━━━━━━━\u001b[0m\u001b[37m\u001b[0m \u001b[1m19s\u001b[0m 718ms/step - accuracy: 1.0000 - loss: 0.0013 - val_accuracy: 0.6600 - val_loss: 2.5724\n",
            "Epoch 29/100\n",
            "\u001b[1m22/22\u001b[0m \u001b[32m━━━━━━━━━━━━━━━━━━━━\u001b[0m\u001b[37m\u001b[0m \u001b[1m21s\u001b[0m 770ms/step - accuracy: 1.0000 - loss: 0.0011 - val_accuracy: 0.6767 - val_loss: 2.4981\n",
            "Epoch 30/100\n",
            "\u001b[1m22/22\u001b[0m \u001b[32m━━━━━━━━━━━━━━━━━━━━\u001b[0m\u001b[37m\u001b[0m \u001b[1m25s\u001b[0m 912ms/step - accuracy: 1.0000 - loss: 7.5898e-04 - val_accuracy: 0.6733 - val_loss: 2.5847\n",
            "Epoch 31/100\n",
            "\u001b[1m22/22\u001b[0m \u001b[32m━━━━━━━━━━━━━━━━━━━━\u001b[0m\u001b[37m\u001b[0m \u001b[1m37s\u001b[0m 766ms/step - accuracy: 1.0000 - loss: 5.4540e-04 - val_accuracy: 0.6733 - val_loss: 2.6574\n"
          ]
        }
      ],
      "source": [
        "# Fit model\n",
        "model2_history = model2.fit(padded_sequences_train, labels_train,\n",
        "                            epochs=100, batch_size=32,\n",
        "                            validation_data=(padded_sequences_test, labels_test),\n",
        "                            callbacks=early_stopping)"
      ]
    },
    {
      "cell_type": "code",
      "execution_count": null,
      "metadata": {
        "id": "peDfqtZXm7qk"
      },
      "outputs": [],
      "source": [
        "# Save model\n",
        "model2.save(\"saved_models/model2.keras\")"
      ]
    },
    {
      "cell_type": "code",
      "execution_count": null,
      "metadata": {
        "id": "YaKdhJtAqOl6"
      },
      "outputs": [],
      "source": [
        "# Load model\n",
        "model2 = keras.models.load_model(\"saved_models/model2.keras\")"
      ]
    },
    {
      "cell_type": "code",
      "execution_count": null,
      "metadata": {
        "colab": {
          "base_uri": "https://localhost:8080/",
          "height": 449
        },
        "id": "HkBDDyqtqOtq",
        "outputId": "6d776aea-41e2-4300-f7fe-36d33f0d747e"
      },
      "outputs": [
        {
          "data": {
            "image/png": "[encoded data removed]",
            "text/plain": [
              "<Figure size 640x480 with 1 Axes>"
            ]
          },
          "metadata": {},
          "output_type": "display_data"
        }
      ],
      "source": [
        "# Learning curve: Loss\n",
        "plt.plot(model2_history.history[\"loss\"], label=\"Train Loss\")\n",
        "plt.plot(model2_history.history[\"val_loss\"], label=\"Test Loss\")\n",
        "plt.xlabel(\"Epoch\")\n",
        "plt.ylabel(\"Loss\")\n",
        "plt.legend()\n",
        "plt.show()"
      ]
    },
    {
      "cell_type": "code",
      "execution_count": null,
      "metadata": {
        "colab": {
          "base_uri": "https://localhost:8080/",
          "height": 449
        },
        "id": "2MCnMCaeqOwa",
        "outputId": "1831d7c5-0383-4544-98d7-cf4c7a397c8f"
      },
      "outputs": [
        {
          "data": {
            "image/png": "[encoded data removed]",
            "text/plain": [
              "<Figure size 640x480 with 1 Axes>"
            ]
          },
          "metadata": {},
          "output_type": "display_data"
        }
      ],
      "source": [
        "# Learning curve: Accuracy\n",
        "plt.plot(model2_history.history[\"accuracy\"], label=\"Train Accuracy\")\n",
        "plt.plot(model2_history.history[\"val_accuracy\"], label=\"Test Accuracy\")\n",
        "plt.xlabel(\"Epoch\")\n",
        "plt.ylabel(\"Accuracy\")\n",
        "plt.legend()\n",
        "plt.show()"
      ]
    },
    {
      "cell_type": "code",
      "execution_count": null,
      "metadata": {
        "colab": {
          "base_uri": "https://localhost:8080/"
        },
        "id": "ztRYwYB-qOzE",
        "outputId": "62ffeaf1-530e-400d-e6a3-6f75e1dd07b6"
      },
      "outputs": [
        {
          "name": "stdout",
          "output_type": "stream",
          "text": [
            "\u001b[1m22/22\u001b[0m \u001b[32m━━━━━━━━━━━━━━━━━━━━\u001b[0m\u001b[37m\u001b[0m \u001b[1m6s\u001b[0m 239ms/step - accuracy: 0.9983 - loss: 0.0078\n",
            "\u001b[1m10/10\u001b[0m \u001b[32m━━━━━━━━━━━━━━━━━━━━\u001b[0m\u001b[37m\u001b[0m \u001b[1m2s\u001b[0m 153ms/step - accuracy: 0.7022 - loss: 1.4562\n",
            "Accuracy Train data:  0.9985673427581787\n",
            "Accuracy Test data:  0.6899999976158142\n"
          ]
        }
      ],
      "source": [
        "# Evaluate model: Accuracy for training and test data\n",
        "train_score_model2 = model2.evaluate(padded_sequences_train, labels_train)\n",
        "test_score_model2 = model2.evaluate(padded_sequences_test, labels_test)\n",
        "print(\"Accuracy Train data: \", train_score_model2[1])\n",
        "print(\"Accuracy Test data: \", test_score_model2[1])"
      ]
    },
    {
      "cell_type": "code",
      "execution_count": null,
      "metadata": {
        "colab": {
          "base_uri": "https://localhost:8080/"
        },
        "id": "FhoyDrPrqO1n",
        "outputId": "8a373ffb-471c-4793-902d-50428812d9e9"
      },
      "outputs": [
        {
          "name": "stdout",
          "output_type": "stream",
          "text": [
            "\u001b[1m10/10\u001b[0m \u001b[32m━━━━━━━━━━━━━━━━━━━━\u001b[0m\u001b[37m\u001b[0m \u001b[1m3s\u001b[0m 306ms/step\n"
          ]
        }
      ],
      "source": [
        "# Predicted labels for test data\n",
        "labels_pred_prob_model2 = model2.predict(padded_sequences_test)\n",
        "labels_pred_model2 = labels_pred_prob_model2.copy()\n",
        "labels_pred_model2[labels_pred_model2 >= 0.5] = 1\n",
        "labels_pred_model2[labels_pred_model2 < 0.5] = 0"
      ]
    },
    {
      "cell_type": "code",
      "execution_count": null,
      "metadata": {
        "colab": {
          "base_uri": "https://localhost:8080/"
        },
        "id": "7Zvum0G-qO5G",
        "outputId": "439d6a6b-54c3-46a8-c749-19afb87a7145"
      },
      "outputs": [
        {
          "name": "stdout",
          "output_type": "stream",
          "text": [
            "Classification Report: Model 2 (LSTM)\n",
            "              precision    recall  f1-score   support\n",
            "\n",
            "           0       0.69      0.79      0.74       165\n",
            "           1       0.69      0.56      0.62       135\n",
            "\n",
            "    accuracy                           0.69       300\n",
            "   macro avg       0.69      0.68      0.68       300\n",
            "weighted avg       0.69      0.69      0.69       300\n",
            "\n"
          ]
        }
      ],
      "source": [
        "# Evaluate model: Classification report for test data\n",
        "print(\"Classification Report: Model 2 (LSTM)\")\n",
        "print(classification_report(labels_test, labels_pred_model2))"
      ]
    },
    {
      "cell_type": "code",
      "execution_count": null,
      "metadata": {
        "colab": {
          "base_uri": "https://localhost:8080/",
          "height": 466
        },
        "id": "wjfKYpyjqfO0",
        "outputId": "caacc0db-5f63-40b2-a072-21460e322ab6"
      },
      "outputs": [
        {
          "data": {
            "text/plain": [
              "<sklearn.metrics._plot.confusion_matrix.ConfusionMatrixDisplay at 0x7de6285cb820>"
            ]
          },
          "execution_count": 61,
          "metadata": {},
          "output_type": "execute_result"
        },
        {
          "data": {
            "image/png": "[encoded data removed]",
            "text/plain": [
              "<Figure size 640x480 with 2 Axes>"
            ]
          },
          "metadata": {},
          "output_type": "display_data"
        }
      ],
      "source": [
        "# Evaluate model: Confusion matrix for test data\n",
        "cm = confusion_matrix(labels_test, labels_pred_model2)\n",
        "cm_disp = ConfusionMatrixDisplay(cm)\n",
        "cm_disp.plot()"
      ]
    },
    {
      "cell_type": "code",
      "execution_count": null,
      "metadata": {
        "colab": {
          "base_uri": "https://localhost:8080/"
        },
        "id": "Dftv4QubqfRW",
        "outputId": "860156f3-bfc7-4943-8ad6-32bb03bbe051"
      },
      "outputs": [
        {
          "name": "stdout",
          "output_type": "stream",
          "text": [
            "Comment: Women deserve to be abused, I guess.\n",
            "True label: 1\n",
            "Predicted label: 1\n",
            "===\n",
            "Comment: Christians are all demonic\n",
            "True label: 1\n",
            "Predicted label: 1\n",
            "===\n",
            "Comment: Muslims want war! So take it to them first\n",
            "True label: 1\n",
            "Predicted label: 1\n",
            "===\n",
            "Comment: Fat lesbians\n",
            "True label: 1\n",
            "Predicted label: 1\n",
            "===\n",
            "Comment: What imaginary gender are you?\n",
            "True label: 1\n",
            "Predicted label: 0\n",
            "===\n"
          ]
        }
      ],
      "source": [
        "# Illustrative examples: True vs. predicted labels for clear and obvious hate speech\n",
        "for i in [236, 207, 15, 29, 183]:\n",
        "    print(f\"Comment: {comments_test[i]}\")\n",
        "    print(f\"True label: {labels_test[i]}\")\n",
        "    print(f\"Predicted label: {int(labels_pred_model2[i][0])}\")\n",
        "    print(\"===\")"
      ]
    },
    {
      "cell_type": "code",
      "execution_count": null,
      "metadata": {
        "id": "ZONHfLfvqfTv"
      },
      "outputs": [],
      "source": [
        "# Model 3: Fine-tuned BERT"
      ]
    },
    {
      "cell_type": "code",
      "execution_count": null,
      "metadata": {
        "id": "lx4lUMv8qfWn"
      },
      "outputs": [],
      "source": [
        "import tensorflow as tf\n",
        "import tensorflow_hub as hub\n",
        "from tensorflow import keras\n",
        "\n",
        "# Specify the input layer\n",
        "text_input = keras.layers.Input(shape=(), dtype=tf.string, name=\"text\")\n",
        "\n",
        "# Preprocess the text inputs using the BERT preprocessing layer within the model\n",
        "preprocessor = hub.KerasLayer(\"https://tfhub.dev/tensorflow/bert_en_uncased_preprocess/3\",\n",
        "                              name=\"preprocessing\")\n",
        "\n",
        "# Apply the preprocessing layer to the input tensor inside a Lambda layer\n",
        "preprocessed_inputs = keras.layers.Lambda(lambda x: preprocessor(x),\n",
        "                                         output_shape=(128,), # Assuming BERT outputs a 128-dimensional vector\n",
        "                                         name=\"preprocessed_text\")(text_input)"
      ]
    },
    {
      "cell_type": "code",
      "execution_count": null,
      "metadata": {
        "id": "J6HFOvxO1rI-"
      },
      "outputs": [],
      "source": [
        "# Load the BERT model\n",
        "bert = hub.KerasLayer(\"https://tfhub.dev/tensorflow/small_bert/bert_en_uncased_L-4_H-512_A-8/2\",\n",
        "                      trainable=True,\n",
        "                      name=\"BERT\")"
      ]
    },
    {
      "cell_type": "code",
      "execution_count": null,
      "metadata": {
        "id": "F7SuYRTR6nhT"
      },
      "outputs": [],
      "source": [
        "# Load the BERT encoder\n",
        "bert_model = hub.KerasLayer(\n",
        "    \"https://tfhub.dev/tensorflow/small_bert/bert_en_uncased_L-4_H-512_A-8/2\",\n",
        "    trainable=True,\n",
        "    name=\"BERT\"\n",
        ")\n",
        "\n",
        "# Preprocess the text and get BERT embeddings\n",
        "def get_bert_embeddings(inputs):\n",
        "    text_inputs = inputs\n",
        "    # Use the BERT preprocessing model's `bert_inputs` method to generate the necessary inputs\n",
        "    bert_inputs = bert_preprocess_model(text_inputs)\n",
        "    # Pass these inputs to the BERT encoder\n",
        "    return bert_model(bert_inputs)['pooled_output']\n",
        "\n",
        "# Create a Keras layer to encapsulate this process\n",
        "bert_embeddings = keras.layers.Lambda(\n",
        "    get_bert_embeddings, output_shape=(512,), name=\"bert_embeddings\"\n",
        ")(text_input)"
      ]
    },
    {
      "cell_type": "code",
      "execution_count": null,
      "metadata": {
        "id": "nMpctV076iP0"
      },
      "outputs": [],
      "source": [
        "pooled_bert_output = bert_embeddings  # bert_embeddings already contains the pooled output\n",
        "\n",
        "# Apply dropout regularization\n",
        "pooled_bert_output = keras.layers.Dropout(0.1)(pooled_bert_output) # Assuming dropout_rate = 0.1\n",
        "\n",
        "# Fine-tune the BERT model with dense layers for the hate speech detection task\n",
        "dense = keras.layers.Dense(128, activation=\"relu\")(pooled_bert_output)\n",
        "outputs = keras.layers.Dense(1, activation=\"sigmoid\", name=\"classifier\")(dense)"
      ]
    },
    {
      "cell_type": "code",
      "execution_count": null,
      "metadata": {
        "id": "K717PZQs1rD_"
      },
      "outputs": [],
      "source": [
        "# Create model\n",
        "model3 = keras.Model(inputs=text_input, outputs=outputs)\n"
      ]
    },
    {
      "cell_type": "code",
      "execution_count": null,
      "metadata": {
        "colab": {
          "base_uri": "https://localhost:8080/",
          "height": 289
        },
        "id": "TpropszV1rBI",
        "outputId": "24d804ee-3d76-4db7-a07b-c978598c3dcb"
      },
      "outputs": [
        {
          "data": {
            "text/html": [
              "<pre style=\"white-space:pre;overflow-x:auto;line-height:normal;font-family:Menlo,'DejaVu Sans Mono',consolas,'Courier New',monospace\"><span style=\"font-weight: bold\">Model: \"functional_12\"</span>\n",
              "</pre>\n"
            ],
            "text/plain": [
              "\u001b[1mModel: \"functional_12\"\u001b[0m\n"
            ]
          },
          "metadata": {},
          "output_type": "display_data"
        },
        {
          "data": {
            "text/html": [
              "<pre style=\"white-space:pre;overflow-x:auto;line-height:normal;font-family:Menlo,'DejaVu Sans Mono',consolas,'Courier New',monospace\">┏━━━━━━━━━━━━━━━━━━━━━━━━━━━━━━━━━━━━━━┳━━━━━━━━━━━━━━━━━━━━━━━━━━━━━┳━━━━━━━━━━━━━━━━━┓\n",
              "┃<span style=\"font-weight: bold\"> Layer (type)                         </span>┃<span style=\"font-weight: bold\"> Output Shape                </span>┃<span style=\"font-weight: bold\">         Param # </span>┃\n",
              "┡━━━━━━━━━━━━━━━━━━━━━━━━━━━━━━━━━━━━━━╇━━━━━━━━━━━━━━━━━━━━━━━━━━━━━╇━━━━━━━━━━━━━━━━━┩\n",
              "│ text (<span style=\"color: #0087ff; text-decoration-color: #0087ff\">InputLayer</span>)                    │ (<span style=\"color: #00d7ff; text-decoration-color: #00d7ff\">None</span>)                      │               <span style=\"color: #00af00; text-decoration-color: #00af00\">0</span> │\n",
              "├──────────────────────────────────────┼─────────────────────────────┼─────────────────┤\n",
              "│ bert_embeddings (<span style=\"color: #0087ff; text-decoration-color: #0087ff\">Lambda</span>)             │ (<span style=\"color: #00d7ff; text-decoration-color: #00d7ff\">None</span>, <span style=\"color: #00af00; text-decoration-color: #00af00\">512</span>)                 │               <span style=\"color: #00af00; text-decoration-color: #00af00\">0</span> │\n",
              "├──────────────────────────────────────┼─────────────────────────────┼─────────────────┤\n",
              "│ dropout (<span style=\"color: #0087ff; text-decoration-color: #0087ff\">Dropout</span>)                    │ (<span style=\"color: #00d7ff; text-decoration-color: #00d7ff\">None</span>, <span style=\"color: #00af00; text-decoration-color: #00af00\">512</span>)                 │               <span style=\"color: #00af00; text-decoration-color: #00af00\">0</span> │\n",
              "├──────────────────────────────────────┼─────────────────────────────┼─────────────────┤\n",
              "│ dense_4 (<span style=\"color: #0087ff; text-decoration-color: #0087ff\">Dense</span>)                      │ (<span style=\"color: #00d7ff; text-decoration-color: #00d7ff\">None</span>, <span style=\"color: #00af00; text-decoration-color: #00af00\">128</span>)                 │          <span style=\"color: #00af00; text-decoration-color: #00af00\">65,664</span> │\n",
              "├──────────────────────────────────────┼─────────────────────────────┼─────────────────┤\n",
              "│ classifier (<span style=\"color: #0087ff; text-decoration-color: #0087ff\">Dense</span>)                   │ (<span style=\"color: #00d7ff; text-decoration-color: #00d7ff\">None</span>, <span style=\"color: #00af00; text-decoration-color: #00af00\">1</span>)                   │             <span style=\"color: #00af00; text-decoration-color: #00af00\">129</span> │\n",
              "└──────────────────────────────────────┴─────────────────────────────┴─────────────────┘\n",
              "</pre>\n"
            ],
            "text/plain": [
              "┏━━━━━━━━━━━━━━━━━━━━━━━━━━━━━━━━━━━━━━┳━━━━━━━━━━━━━━━━━━━━━━━━━━━━━┳━━━━━━━━━━━━━━━━━┓\n",
              "┃\u001b[1m \u001b[0m\u001b[1mLayer (type)                        \u001b[0m\u001b[1m \u001b[0m┃\u001b[1m \u001b[0m\u001b[1mOutput Shape               \u001b[0m\u001b[1m \u001b[0m┃\u001b[1m \u001b[0m\u001b[1m        Param #\u001b[0m\u001b[1m \u001b[0m┃\n",
              "┡━━━━━━━━━━━━━━━━━━━━━━━━━━━━━━━━━━━━━━╇━━━━━━━━━━━━━━━━━━━━━━━━━━━━━╇━━━━━━━━━━━━━━━━━┩\n",
              "│ text (\u001b[38;5;33mInputLayer\u001b[0m)                    │ (\u001b[38;5;45mNone\u001b[0m)                      │               \u001b[38;5;34m0\u001b[0m │\n",
              "├──────────────────────────────────────┼─────────────────────────────┼─────────────────┤\n",
              "│ bert_embeddings (\u001b[38;5;33mLambda\u001b[0m)             │ (\u001b[38;5;45mNone\u001b[0m, \u001b[38;5;34m512\u001b[0m)                 │               \u001b[38;5;34m0\u001b[0m │\n",
              "├──────────────────────────────────────┼─────────────────────────────┼─────────────────┤\n",
              "│ dropout (\u001b[38;5;33mDropout\u001b[0m)                    │ (\u001b[38;5;45mNone\u001b[0m, \u001b[38;5;34m512\u001b[0m)                 │               \u001b[38;5;34m0\u001b[0m │\n",
              "├──────────────────────────────────────┼─────────────────────────────┼─────────────────┤\n",
              "│ dense_4 (\u001b[38;5;33mDense\u001b[0m)                      │ (\u001b[38;5;45mNone\u001b[0m, \u001b[38;5;34m128\u001b[0m)                 │          \u001b[38;5;34m65,664\u001b[0m │\n",
              "├──────────────────────────────────────┼─────────────────────────────┼─────────────────┤\n",
              "│ classifier (\u001b[38;5;33mDense\u001b[0m)                   │ (\u001b[38;5;45mNone\u001b[0m, \u001b[38;5;34m1\u001b[0m)                   │             \u001b[38;5;34m129\u001b[0m │\n",
              "└──────────────────────────────────────┴─────────────────────────────┴─────────────────┘\n"
            ]
          },
          "metadata": {},
          "output_type": "display_data"
        },
        {
          "data": {
            "text/html": [
              "<pre style=\"white-space:pre;overflow-x:auto;line-height:normal;font-family:Menlo,'DejaVu Sans Mono',consolas,'Courier New',monospace\"><span style=\"font-weight: bold\"> Total params: </span><span style=\"color: #00af00; text-decoration-color: #00af00\">65,793</span> (257.00 KB)\n",
              "</pre>\n"
            ],
            "text/plain": [
              "\u001b[1m Total params: \u001b[0m\u001b[38;5;34m65,793\u001b[0m (257.00 KB)\n"
            ]
          },
          "metadata": {},
          "output_type": "display_data"
        },
        {
          "data": {
            "text/html": [
              "<pre style=\"white-space:pre;overflow-x:auto;line-height:normal;font-family:Menlo,'DejaVu Sans Mono',consolas,'Courier New',monospace\"><span style=\"font-weight: bold\"> Trainable params: </span><span style=\"color: #00af00; text-decoration-color: #00af00\">65,793</span> (257.00 KB)\n",
              "</pre>\n"
            ],
            "text/plain": [
              "\u001b[1m Trainable params: \u001b[0m\u001b[38;5;34m65,793\u001b[0m (257.00 KB)\n"
            ]
          },
          "metadata": {},
          "output_type": "display_data"
        },
        {
          "data": {
            "text/html": [
              "<pre style=\"white-space:pre;overflow-x:auto;line-height:normal;font-family:Menlo,'DejaVu Sans Mono',consolas,'Courier New',monospace\"><span style=\"font-weight: bold\"> Non-trainable params: </span><span style=\"color: #00af00; text-decoration-color: #00af00\">0</span> (0.00 B)\n",
              "</pre>\n"
            ],
            "text/plain": [
              "\u001b[1m Non-trainable params: \u001b[0m\u001b[38;5;34m0\u001b[0m (0.00 B)\n"
            ]
          },
          "metadata": {},
          "output_type": "display_data"
        }
      ],
      "source": [
        "# Summarize model\n",
        "model3.summary()"
      ]
    },
    {
      "cell_type": "code",
      "execution_count": null,
      "metadata": {
        "id": "rpn0M97w1q76"
      },
      "outputs": [],
      "source": [
        "# Compile model\n",
        "optimizer = keras.optimizers.Adam(learning_rate=0.0001)\n",
        "model3.compile(optimizer=optimizer,\n",
        "               loss=\"binary_crossentropy\",\n",
        "               metrics=[\"accuracy\"])"
      ]
    },
    {
      "cell_type": "code",
      "execution_count": null,
      "metadata": {
        "id": "dBrk9_Jg8sQX"
      },
      "outputs": [],
      "source": [
        "\n",
        "tfhub_handle_preprocess = \"https://tfhub.dev/tensorflow/bert_en_uncased_preprocess/3\"\n",
        "tfhub_handle_encoder = \"https://tfhub.dev/tensorflow/small_bert/bert_en_uncased_L-4_H-512_A-8/1\"\n",
        "\n",
        "# Define the BERT preprocessing model\n",
        "bert_preprocess_model = hub.KerasLayer(tfhub_handle_preprocess)"
      ]
    },
    {
      "cell_type": "code",
      "execution_count": null,
      "metadata": {
        "id": "gXj0EcbI9tZX"
      },
      "outputs": [],
      "source": [
        "# Compile model\n",
        "optimizer = keras.optimizers.Adam(learning_rate=0.0001)\n",
        "# The compile method should be invoked and NOT assigned to model3.\n",
        "model3.compile(optimizer=optimizer,\n",
        "               loss=\"binary_crossentropy\",\n",
        "               metrics=[\"accuracy\"])"
      ]
    },
    {
      "cell_type": "code",
      "execution_count": null,
      "metadata": {
        "colab": {
          "background_save": true,
          "base_uri": "https://localhost:8080/"
        },
        "id": "qxU0n9SB1q4i",
        "outputId": "585d7da4-a5f5-4be3-870a-f381a6b7c5cf"
      },
      "outputs": [
        {
          "name": "stdout",
          "output_type": "stream",
          "text": [
            "Epoch 1/100\n",
            "\u001b[1m88/88\u001b[0m \u001b[32m━━━━━━━━━━━━━━━━━━━━\u001b[0m\u001b[37m\u001b[0m \u001b[1m108s\u001b[0m 1s/step - accuracy: 0.5242 - loss: 0.7140 - val_accuracy: 0.6133 - val_loss: 0.6597\n",
            "Epoch 2/100\n",
            "\u001b[1m88/88\u001b[0m \u001b[32m━━━━━━━━━━━━━━━━━━━━\u001b[0m\u001b[37m\u001b[0m \u001b[1m127s\u001b[0m 1s/step - accuracy: 0.6308 - loss: 0.6301 - val_accuracy: 0.6267 - val_loss: 0.6332\n",
            "Epoch 3/100\n",
            "\u001b[1m88/88\u001b[0m \u001b[32m━━━━━━━━━━━━━━━━━━━━\u001b[0m\u001b[37m\u001b[0m \u001b[1m144s\u001b[0m 1s/step - accuracy: 0.6752 - loss: 0.6088 - val_accuracy: 0.6500 - val_loss: 0.6261\n",
            "Epoch 4/100\n",
            "\u001b[1m88/88\u001b[0m \u001b[32m━━━━━━━━━━━━━━━━━━━━\u001b[0m\u001b[37m\u001b[0m \u001b[1m155s\u001b[0m 1s/step - accuracy: 0.7064 - loss: 0.5730 - val_accuracy: 0.6367 - val_loss: 0.6062\n",
            "Epoch 5/100\n",
            "\u001b[1m88/88\u001b[0m \u001b[32m━━━━━━━━━━━━━━━━━━━━\u001b[0m\u001b[37m\u001b[0m \u001b[1m129s\u001b[0m 1s/step - accuracy: 0.7320 - loss: 0.5654 - val_accuracy: 0.6433 - val_loss: 0.5987\n",
            "Epoch 6/100\n",
            "\u001b[1m88/88\u001b[0m \u001b[32m━━━━━━━━━━━━━━━━━━━━\u001b[0m\u001b[37m\u001b[0m \u001b[1m90s\u001b[0m 1s/step - accuracy: 0.7229 - loss: 0.5609 - val_accuracy: 0.6467 - val_loss: 0.5957\n",
            "Epoch 7/100\n",
            "\u001b[1m88/88\u001b[0m \u001b[32m━━━━━━━━━━━━━━━━━━━━\u001b[0m\u001b[37m\u001b[0m \u001b[1m104s\u001b[0m 1s/step - accuracy: 0.7225 - loss: 0.5517 - val_accuracy: 0.6433 - val_loss: 0.5899\n",
            "Epoch 8/100\n",
            "\u001b[1m88/88\u001b[0m \u001b[32m━━━━━━━━━━━━━━━━━━━━\u001b[0m\u001b[37m\u001b[0m \u001b[1m129s\u001b[0m 1s/step - accuracy: 0.7466 - loss: 0.5508 - val_accuracy: 0.6700 - val_loss: 0.6014\n",
            "Epoch 9/100\n",
            "\u001b[1m88/88\u001b[0m \u001b[32m━━━━━━━━━━━━━━━━━━━━\u001b[0m\u001b[37m\u001b[0m \u001b[1m158s\u001b[0m 1s/step - accuracy: 0.6885 - loss: 0.5681 - val_accuracy: 0.6733 - val_loss: 0.5802\n",
            "Epoch 10/100\n",
            "\u001b[1m88/88\u001b[0m \u001b[32m━━━━━━━━━━━━━━━━━━━━\u001b[0m\u001b[37m\u001b[0m \u001b[1m124s\u001b[0m 1s/step - accuracy: 0.7405 - loss: 0.5290 - val_accuracy: 0.6567 - val_loss: 0.5767\n",
            "Epoch 11/100\n",
            "\u001b[1m88/88\u001b[0m \u001b[32m━━━━━━━━━━━━━━━━━━━━\u001b[0m\u001b[37m\u001b[0m \u001b[1m159s\u001b[0m 1s/step - accuracy: 0.7617 - loss: 0.5069 - val_accuracy: 0.6567 - val_loss: 0.5796\n",
            "Epoch 12/100\n",
            "\u001b[1m88/88\u001b[0m \u001b[32m━━━━━━━━━━━━━━━━━━━━\u001b[0m\u001b[37m\u001b[0m \u001b[1m124s\u001b[0m 1s/step - accuracy: 0.7186 - loss: 0.5333 - val_accuracy: 0.6733 - val_loss: 0.5692\n",
            "Epoch 13/100\n",
            "\u001b[1m88/88\u001b[0m \u001b[32m━━━━━━━━━━━━━━━━━━━━\u001b[0m\u001b[37m\u001b[0m \u001b[1m142s\u001b[0m 1s/step - accuracy: 0.7688 - loss: 0.4890 - val_accuracy: 0.6600 - val_loss: 0.5752\n",
            "Epoch 14/100\n",
            "\u001b[1m88/88\u001b[0m \u001b[32m━━━━━━━━━━━━━━━━━━━━\u001b[0m\u001b[37m\u001b[0m \u001b[1m103s\u001b[0m 1s/step - accuracy: 0.7746 - loss: 0.4824 - val_accuracy: 0.6700 - val_loss: 0.5715\n",
            "Epoch 15/100\n",
            "\u001b[1m88/88\u001b[0m \u001b[32m━━━━━━━━━━━━━━━━━━━━\u001b[0m\u001b[37m\u001b[0m \u001b[1m128s\u001b[0m 1s/step - accuracy: 0.7577 - loss: 0.4995 - val_accuracy: 0.6900 - val_loss: 0.5746\n",
            "Epoch 16/100\n",
            "\u001b[1m88/88\u001b[0m \u001b[32m━━━━━━━━━━━━━━━━━━━━\u001b[0m\u001b[37m\u001b[0m \u001b[1m157s\u001b[0m 1s/step - accuracy: 0.7805 - loss: 0.4531 - val_accuracy: 0.6867 - val_loss: 0.5790\n",
            "Epoch 17/100\n",
            "\u001b[1m88/88\u001b[0m \u001b[32m━━━━━━━━━━━━━━━━━━━━\u001b[0m\u001b[37m\u001b[0m \u001b[1m126s\u001b[0m 999ms/step - accuracy: 0.7418 - loss: 0.5071 - val_accuracy: 0.6967 - val_loss: 0.5817\n",
            "Epoch 18/100\n",
            "\u001b[1m88/88\u001b[0m \u001b[32m━━━━━━━━━━━━━━━━━━━━\u001b[0m\u001b[37m\u001b[0m \u001b[1m142s\u001b[0m 995ms/step - accuracy: 0.7907 - loss: 0.4762 - val_accuracy: 0.6667 - val_loss: 0.5819\n",
            "Epoch 19/100\n",
            "\u001b[1m88/88\u001b[0m \u001b[32m━━━━━━━━━━━━━━━━━━━━\u001b[0m\u001b[37m\u001b[0m \u001b[1m158s\u001b[0m 1s/step - accuracy: 0.7698 - loss: 0.4648 - val_accuracy: 0.6767 - val_loss: 0.5678\n",
            "Epoch 20/100\n",
            "\u001b[1m88/88\u001b[0m \u001b[32m━━━━━━━━━━━━━━━━━━━━\u001b[0m\u001b[37m\u001b[0m \u001b[1m140s\u001b[0m 1s/step - accuracy: 0.8372 - loss: 0.4474 - val_accuracy: 0.6700 - val_loss: 0.5712\n",
            "Epoch 21/100\n",
            "\u001b[1m88/88\u001b[0m \u001b[32m━━━━━━━━━━━━━━━━━━━━\u001b[0m\u001b[37m\u001b[0m \u001b[1m129s\u001b[0m 1s/step - accuracy: 0.7629 - loss: 0.4537 - val_accuracy: 0.6733 - val_loss: 0.5709\n",
            "Epoch 22/100\n",
            "\u001b[1m88/88\u001b[0m \u001b[32m━━━━━━━━━━━━━━━━━━━━\u001b[0m\u001b[37m\u001b[0m \u001b[1m156s\u001b[0m 1s/step - accuracy: 0.7879 - loss: 0.4738 - val_accuracy: 0.6800 - val_loss: 0.5869\n",
            "Epoch 23/100\n",
            "\u001b[1m88/88\u001b[0m \u001b[32m━━━━━━━━━━━━━━━━━━━━\u001b[0m\u001b[37m\u001b[0m \u001b[1m88s\u001b[0m 1s/step - accuracy: 0.7727 - loss: 0.4589 - val_accuracy: 0.6800 - val_loss: 0.5732\n",
            "Epoch 24/100\n",
            "\u001b[1m88/88\u001b[0m \u001b[32m━━━━━━━━━━━━━━━━━━━━\u001b[0m\u001b[37m\u001b[0m \u001b[1m157s\u001b[0m 1s/step - accuracy: 0.7752 - loss: 0.4306 - val_accuracy: 0.6700 - val_loss: 0.5678\n",
            "Epoch 25/100\n",
            "\u001b[1m88/88\u001b[0m \u001b[32m━━━━━━━━━━━━━━━━━━━━\u001b[0m\u001b[37m\u001b[0m \u001b[1m142s\u001b[0m 1s/step - accuracy: 0.8287 - loss: 0.4382 - val_accuracy: 0.6833 - val_loss: 0.5682\n",
            "Epoch 26/100\n",
            "\u001b[1m88/88\u001b[0m \u001b[32m━━━━━━━━━━━━━━━━━━━━\u001b[0m\u001b[37m\u001b[0m \u001b[1m127s\u001b[0m 1s/step - accuracy: 0.7990 - loss: 0.4613 - val_accuracy: 0.6733 - val_loss: 0.5737\n",
            "Epoch 27/100\n",
            "\u001b[1m88/88\u001b[0m \u001b[32m━━━━━━━━━━━━━━━━━━━━\u001b[0m\u001b[37m\u001b[0m \u001b[1m104s\u001b[0m 1s/step - accuracy: 0.8086 - loss: 0.4256 - val_accuracy: 0.6567 - val_loss: 0.5739\n",
            "Epoch 28/100\n",
            "\u001b[1m88/88\u001b[0m \u001b[32m━━━━━━━━━━━━━━━━━━━━\u001b[0m\u001b[37m\u001b[0m \u001b[1m141s\u001b[0m 1s/step - accuracy: 0.8015 - loss: 0.4308 - val_accuracy: 0.6767 - val_loss: 0.5710\n",
            "Epoch 29/100\n",
            "\u001b[1m88/88\u001b[0m \u001b[32m━━━━━━━━━━━━━━━━━━━━\u001b[0m\u001b[37m\u001b[0m \u001b[1m141s\u001b[0m 1s/step - accuracy: 0.8166 - loss: 0.4350 - val_accuracy: 0.6867 - val_loss: 0.5700\n",
            "Epoch 30/100\n",
            "\u001b[1m88/88\u001b[0m \u001b[32m━━━━━━━━━━━━━━━━━━━━\u001b[0m\u001b[37m\u001b[0m \u001b[1m144s\u001b[0m 1s/step - accuracy: 0.8141 - loss: 0.4416 - val_accuracy: 0.6867 - val_loss: 0.5681\n",
            "Epoch 31/100\n",
            "\u001b[1m88/88\u001b[0m \u001b[32m━━━━━━━━━━━━━━━━━━━━\u001b[0m\u001b[37m\u001b[0m \u001b[1m127s\u001b[0m 1s/step - accuracy: 0.7884 - loss: 0.4317 - val_accuracy: 0.6800 - val_loss: 0.5714\n",
            "Epoch 32/100\n",
            "\u001b[1m88/88\u001b[0m \u001b[32m━━━━━━━━━━━━━━━━━━━━\u001b[0m\u001b[37m\u001b[0m \u001b[1m154s\u001b[0m 1s/step - accuracy: 0.7867 - loss: 0.4364 - val_accuracy: 0.6633 - val_loss: 0.5687\n",
            "Epoch 33/100\n",
            "\u001b[1m88/88\u001b[0m \u001b[32m━━━━━━━━━━━━━━━━━━━━\u001b[0m\u001b[37m\u001b[0m \u001b[1m88s\u001b[0m 1s/step - accuracy: 0.8198 - loss: 0.3954 - val_accuracy: 0.6600 - val_loss: 0.5830\n",
            "Epoch 34/100\n",
            "\u001b[1m88/88\u001b[0m \u001b[32m━━━━━━━━━━━━━━━━━━━━\u001b[0m\u001b[37m\u001b[0m \u001b[1m142s\u001b[0m 1s/step - accuracy: 0.8088 - loss: 0.4191 - val_accuracy: 0.6967 - val_loss: 0.5795\n",
            "Epoch 35/100\n",
            "\u001b[1m88/88\u001b[0m \u001b[32m━━━━━━━━━━━━━━━━━━━━\u001b[0m\u001b[37m\u001b[0m \u001b[1m144s\u001b[0m 1s/step - accuracy: 0.8277 - loss: 0.4034 - val_accuracy: 0.6833 - val_loss: 0.5765\n",
            "Epoch 36/100\n",
            "\u001b[1m88/88\u001b[0m \u001b[32m━━━━━━━━━━━━━━━━━━━━\u001b[0m\u001b[37m\u001b[0m \u001b[1m155s\u001b[0m 1s/step - accuracy: 0.7885 - loss: 0.4218 - val_accuracy: 0.6767 - val_loss: 0.5745\n",
            "Epoch 37/100\n",
            "\u001b[1m88/88\u001b[0m \u001b[32m━━━━━━━━━━━━━━━━━━━━\u001b[0m\u001b[37m\u001b[0m \u001b[1m127s\u001b[0m 1s/step - accuracy: 0.8201 - loss: 0.4097 - val_accuracy: 0.6567 - val_loss: 0.5881\n"
          ]
        }
      ],
      "source": [
        "# Fit model\n",
        "model3_history = model3.fit(comments_train, labels_train,\n",
        "                            epochs=100, batch_size=8,\n",
        "                            validation_data=(comments_test, labels_test),\n",
        "                            callbacks=early_stopping)"
      ]
    },
    {
      "cell_type": "code",
      "execution_count": null,
      "metadata": {
        "id": "9ulD_tMh4Io1"
      },
      "outputs": [],
      "source": [
        "# Save model\n",
        "model3.save(\"saved_models/model3.keras\")"
      ]
    },
    {
      "cell_type": "code",
      "execution_count": null,
      "metadata": {
        "id": "PumQqdJg4Il-"
      },
      "outputs": [],
      "source": [
        "model3 = keras.models.load_model(\"saved_models/model3.keras\",\n",
        "                                custom_objects={'get_bert_embeddings': get_bert_embeddings})"
      ]
    },
    {
      "cell_type": "code",
      "execution_count": null,
      "metadata": {
        "colab": {
          "base_uri": "https://localhost:8080/",
          "height": 449
        },
        "id": "2ifTNycR4Ii1",
        "outputId": "7b56bc36-c30c-4b1e-ea34-63aea1eaa799"
      },
      "outputs": [
        {
          "data": {
            "image/png": "[encoded data removed]",
            "text/plain": [
              "<Figure size 640x480 with 1 Axes>"
            ]
          },
          "metadata": {},
          "output_type": "display_data"
        }
      ],
      "source": [
        "# Learning curve: Loss\n",
        "plt.plot(model3_history.history[\"loss\"], label=\"Train Loss\")\n",
        "plt.plot(model3_history.history[\"val_loss\"], label=\"Test Loss\")\n",
        "plt.xlabel(\"Epoch\")\n",
        "plt.ylabel(\"Loss\")\n",
        "plt.legend()\n",
        "plt.show()"
      ]
    },
    {
      "cell_type": "code",
      "execution_count": null,
      "metadata": {
        "colab": {
          "base_uri": "https://localhost:8080/",
          "height": 449
        },
        "id": "kbiQAQk94IfM",
        "outputId": "f4de7fd8-6849-4f61-ca58-266f13deb62a"
      },
      "outputs": [
        {
          "data": {
            "image/png": "[encoded data removed]",
            "text/plain": [
              "<Figure size 640x480 with 1 Axes>"
            ]
          },
          "metadata": {},
          "output_type": "display_data"
        }
      ],
      "source": [
        "# Learning curve: Accuracy\n",
        "plt.plot(model3_history.history[\"accuracy\"], label=\"Train Accuracy\")\n",
        "plt.plot(model3_history.history[\"val_accuracy\"], label=\"Test Accuracy\")\n",
        "plt.xlabel(\"Epoch\")\n",
        "plt.ylabel(\"Accuracy\")\n",
        "plt.legend()\n",
        "plt.show()"
      ]
    },
    {
      "cell_type": "code",
      "execution_count": null,
      "metadata": {
        "colab": {
          "base_uri": "https://localhost:8080/"
        },
        "id": "WzAHzEbg4Ib4",
        "outputId": "e6ee8424-da48-4858-e26f-f1d3627c71b1"
      },
      "outputs": [
        {
          "name": "stdout",
          "output_type": "stream",
          "text": [
            "\u001b[1m22/22\u001b[0m \u001b[32m━━━━━━━━━━━━━━━━━━━━\u001b[0m\u001b[37m\u001b[0m \u001b[1m55s\u001b[0m 2s/step - accuracy: 0.6014 - loss: 0.6641\n",
            "\u001b[1m10/10\u001b[0m \u001b[32m━━━━━━━━━━━━━━━━━━━━\u001b[0m\u001b[37m\u001b[0m \u001b[1m23s\u001b[0m 2s/step - accuracy: 0.6340 - loss: 0.6347\n",
            "Accuracy Train data:  0.643266499042511\n",
            "Accuracy Test data:  0.6133333444595337\n"
          ]
        }
      ],
      "source": [
        "# Evaluate model: Accuracy for training and test data\n",
        "train_score_model3 = model3.evaluate(comments_train, labels_train)\n",
        "test_score_model3 = model3.evaluate(comments_test, labels_test)\n",
        "print(\"Accuracy Train data: \", train_score_model3[1])\n",
        "print(\"Accuracy Test data: \", test_score_model3[1])\n"
      ]
    },
    {
      "cell_type": "code",
      "execution_count": null,
      "metadata": {
        "colab": {
          "base_uri": "https://localhost:8080/"
        },
        "id": "gVqhUALu4UoB",
        "outputId": "7f5de553-7792-4d28-dd64-abfba1105e5e"
      },
      "outputs": [
        {
          "name": "stdout",
          "output_type": "stream",
          "text": [
            "\u001b[1m10/10\u001b[0m \u001b[32m━━━━━━━━━━━━━━━━━━━━\u001b[0m\u001b[37m\u001b[0m \u001b[1m24s\u001b[0m 2s/step\n"
          ]
        }
      ],
      "source": [
        "# Predicted labels for test data\n",
        "labels_pred_prob_model3 = model3.predict(comments_test)\n",
        "labels_pred_model3 = labels_pred_prob_model3.copy()\n",
        "labels_pred_model3[labels_pred_model3 >= 0.5] = 1\n",
        "labels_pred_model3[labels_pred_model3 < 0.5] = 0\n"
      ]
    },
    {
      "cell_type": "code",
      "execution_count": null,
      "metadata": {
        "colab": {
          "base_uri": "https://localhost:8080/"
        },
        "id": "yADHBtwh4Ula",
        "outputId": "44c726ab-4def-4c85-c9d0-791e4d9ded4d"
      },
      "outputs": [
        {
          "name": "stdout",
          "output_type": "stream",
          "text": [
            "Classification Report: Model 3 (Bert)\n",
            "              precision    recall  f1-score   support\n",
            "\n",
            "           0       0.66      0.61      0.63       165\n",
            "           1       0.56      0.62      0.59       135\n",
            "\n",
            "    accuracy                           0.61       300\n",
            "   macro avg       0.61      0.61      0.61       300\n",
            "weighted avg       0.62      0.61      0.61       300\n",
            "\n"
          ]
        }
      ],
      "source": [
        "# Evalute model: Classification report for test data\n",
        "print(\"Classification Report: Model 3 (Bert)\")\n",
        "print(classification_report(labels_test, labels_pred_model3))"
      ]
    },
    {
      "cell_type": "code",
      "execution_count": null,
      "metadata": {
        "colab": {
          "base_uri": "https://localhost:8080/",
          "height": 472
        },
        "id": "mQdLG-R_4Ui0",
        "outputId": "753608ca-9f83-4b08-cad9-056c685dc006"
      },
      "outputs": [
        {
          "data": {
            "text/plain": [
              "<sklearn.metrics._plot.confusion_matrix.ConfusionMatrixDisplay at 0x7a939d3b5210>"
            ]
          },
          "execution_count": 78,
          "metadata": {},
          "output_type": "execute_result"
        },
        {
          "data": {
            "image/png": "[encoded data removed]",
            "text/plain": [
              "<Figure size 640x480 with 2 Axes>"
            ]
          },
          "metadata": {},
          "output_type": "display_data"
        }
      ],
      "source": [
        "\n",
        "# Evaluate model: Confusion matrix for test data\n",
        "cm = confusion_matrix(labels_test, labels_pred_model3)\n",
        "cm_disp = ConfusionMatrixDisplay(cm)\n",
        "cm_disp.plot()"
      ]
    },
    {
      "cell_type": "code",
      "execution_count": null,
      "metadata": {
        "colab": {
          "base_uri": "https://localhost:8080/"
        },
        "id": "xwK1LDl84UgN",
        "outputId": "dafa5345-844f-48ff-b2e6-710dea1d7594"
      },
      "outputs": [
        {
          "name": "stdout",
          "output_type": "stream",
          "text": [
            "Comment: Women deserve to be abused, I guess.\n",
            "True label: 1\n",
            "Predicted label: 0\n",
            "===\n",
            "Comment: Christians are all demonic\n",
            "True label: 1\n",
            "Predicted label: 1\n",
            "===\n",
            "Comment: Muslims want war! So take it to them first\n",
            "True label: 1\n",
            "Predicted label: 1\n",
            "===\n",
            "Comment: Fat lesbians\n",
            "True label: 1\n",
            "Predicted label: 1\n",
            "===\n",
            "Comment: What imaginary gender are you?\n",
            "True label: 1\n",
            "Predicted label: 1\n",
            "===\n"
          ]
        }
      ],
      "source": [
        "# Illustrative examples: True vs. predicted labels for clear and obvious hate speech\n",
        "for i in [236, 207, 15, 29, 183]:\n",
        "    # Check if the index is within the bounds of comments_test\n",
        "    if i < len(comments_test):\n",
        "        print(f\"Comment: {comments_test[i]}\")\n",
        "        print(f\"True label: {labels_test[i]}\")\n",
        "        print(f\"Predicted label: {int(labels_pred_model3[i][0])}\")\n",
        "        print(\"===\")\n",
        "    else:\n",
        "        print(f\"Index {i} is out of bounds for comments_test\")"
      ]
    },
    {
      "cell_type": "code",
      "execution_count": null,
      "metadata": {
        "colab": {
          "base_uri": "https://localhost:8080/"
        },
        "id": "v_N-N5T24UdZ",
        "outputId": "02a3b9b2-bbd5-4f6f-d3c5-ef7728ecd4e1"
      },
      "outputs": [
        {
          "name": "stdout",
          "output_type": "stream",
          "text": [
            "Comment: Women deserve to be abused, I guess.\n",
            "True label: 1\n",
            "SimpleRNN: 0\n",
            "LSTM: 1\n",
            "Fine-Tuned BERT: 0\n",
            "===\n",
            "Comment: Christians are all demonic\n",
            "True label: 1\n",
            "SimpleRNN: 0\n",
            "LSTM: 1\n",
            "Fine-Tuned BERT: 1\n",
            "===\n",
            "Comment: Muslims want war! So take it to them first\n",
            "True label: 1\n",
            "SimpleRNN: 0\n",
            "LSTM: 0\n",
            "Fine-Tuned BERT: 1\n",
            "===\n",
            "Comment: Fat lesbians\n",
            "True label: 1\n",
            "SimpleRNN: 0\n",
            "LSTM: 1\n",
            "Fine-Tuned BERT: 1\n",
            "===\n",
            "Comment: What imaginary gender are you?\n",
            "True label: 1\n",
            "SimpleRNN: 0\n",
            "LSTM: 0\n",
            "Fine-Tuned BERT: 1\n",
            "===\n"
          ]
        }
      ],
      "source": [
        " # Illustrative examples: Comparing SimpleRNN, LSTM and fine-tuned BERT\n",
        "for i in [236, 207, 15, 29, 183]:\n",
        "    # Check if the index is within the bounds of comments_test, labels_test and prediction arrays\n",
        "    if i < len(comments_test) and i < len(labels_test) and i < len(labels_pred_model1) and i < len(labels_pred_model2) and i < len(labels_pred_model3):\n",
        "        print(f\"Comment: {comments_test[i]}\")\n",
        "        print(f\"True label: {labels_test[i]}\")\n",
        "        print(f\"SimpleRNN: {int(labels_pred_model1[i][0])}\")\n",
        "        print(f\"LSTM: {int(labels_pred_model2[i][0])}\")\n",
        "        print(f\"Fine-Tuned BERT: {int(labels_pred_model3[i][0])}\")\n",
        "        print(\"===\")\n",
        "    else:\n",
        "        print(f\"Index {i} is out of bounds for one or more of the data arrays\")"
      ]
    }
  ],
  "metadata": {
    "colab": {
      "provenance": []
    },
    "kernelspec": {
      "display_name": "Python 3",
      "name": "python3"
    },
    "language_info": {
      "name": "python"
    }
  },
  "nbformat": 4,
  "nbformat_minor": 0
}